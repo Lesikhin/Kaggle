{
 "cells": [
  {
   "cell_type": "code",
   "execution_count": 1,
   "id": "10b70d0d-32dd-4784-8805-3c2bf6272d02",
   "metadata": {},
   "outputs": [],
   "source": [
    "# Import Libraries\n",
    "import pandas as pd\n",
    "import numpy as np\n",
    "from sklearn.model_selection import KFold\n",
    "from sklearn.metrics import mean_squared_error\n",
    "import xgboost as xgb\n",
    "import optuna\n",
    "from optuna.samplers import TPESampler\n",
    "from sklearn.model_selection import train_test_split\n",
    "from sklearn.preprocessing import StandardScaler, LabelEncoder\n",
    "from tensorflow.keras.models import Sequential\n",
    "from tensorflow.keras.layers import Dense, Dropout\n",
    "from tensorflow.keras.optimizers import Adam\n",
    "from tensorflow.keras.callbacks import EarlyStopping\n",
    "from tensorflow.keras import backend as K  # Для создания пользовательской метрики\n",
    "import category_encoders as ce"
   ]
  },
  {
   "cell_type": "code",
   "execution_count": 2,
   "id": "6d1d9fab-91d3-41ff-a5be-90dcf475b3d5",
   "metadata": {},
   "outputs": [],
   "source": [
    "# Load datasets\n",
    "train_df = pd.read_csv('d://ml///playground//train.csv')\n",
    "test_df = pd.read_csv('d://ml///playground//test.csv')\n",
    "test_ids = test_df['id']"
   ]
  },
  {
   "cell_type": "code",
   "execution_count": 3,
   "id": "d904ad9c-4f4d-4466-9b2f-05db179ea52d",
   "metadata": {},
   "outputs": [
    {
     "name": "stdout",
     "output_type": "stream",
     "text": [
      "<class 'pandas.core.frame.DataFrame'>\n",
      "RangeIndex: 750000 entries, 0 to 749999\n",
      "Data columns (total 12 columns):\n",
      " #   Column                       Non-Null Count   Dtype  \n",
      "---  ------                       --------------   -----  \n",
      " 0   id                           750000 non-null  int64  \n",
      " 1   Podcast_Name                 750000 non-null  object \n",
      " 2   Episode_Title                750000 non-null  object \n",
      " 3   Episode_Length_minutes       662907 non-null  float64\n",
      " 4   Genre                        750000 non-null  object \n",
      " 5   Host_Popularity_percentage   750000 non-null  float64\n",
      " 6   Publication_Day              750000 non-null  object \n",
      " 7   Publication_Time             750000 non-null  object \n",
      " 8   Guest_Popularity_percentage  603970 non-null  float64\n",
      " 9   Number_of_Ads                749999 non-null  float64\n",
      " 10  Episode_Sentiment            750000 non-null  object \n",
      " 11  Listening_Time_minutes       750000 non-null  float64\n",
      "dtypes: float64(5), int64(1), object(6)\n",
      "memory usage: 68.7+ MB\n"
     ]
    }
   ],
   "source": [
    "train_df.info()"
   ]
  },
  {
   "cell_type": "code",
   "execution_count": 4,
   "id": "f6b8bfe3-6b17-493b-96e5-08e76390b137",
   "metadata": {},
   "outputs": [],
   "source": [
    "def print_nan(df):\n",
    "    # выбираем не нулевые значения\n",
    "    missing_values = df.isnull().sum() / len(df) * 100\n",
    "    non_zero_missing_values = missing_values[missing_values > 0]\n",
    "    missing_values_df = non_zero_missing_values.reset_index()\n",
    "    missing_values_df.columns = ['Column', 'Percentage']\n",
    "    # Визуализация пропущенных значений\n",
    "    plt.figure(figsize=(15, 2))\n",
    "    ax = sns.barplot(x='Column', y='Percentage', data=missing_values_df, hue = 'Column')\n",
    "    sns.color_palette(\"hls\", 8)\n",
    "    plt.title('Пропущенные значения')\n",
    "    plt.ylabel('Проценты (%)')\n",
    "    plt.xlabel('Пропуски в данных')\n",
    "    plt.ylim(0, 40)\n",
    "    for i in range (len(missing_values_df)):\n",
    "        ax.bar_label(ax.containers[i])"
   ]
  },
  {
   "cell_type": "code",
   "execution_count": 5,
   "id": "c9327910-421a-4384-89dc-7cb0bfa28b23",
   "metadata": {},
   "outputs": [
    {
     "data": {
      "application/javascript": [
       "\n",
       "        if (window._pyforest_update_imports_cell) { window._pyforest_update_imports_cell('import matplotlib.pyplot as plt'); }\n",
       "    "
      ],
      "text/plain": [
       "<IPython.core.display.Javascript object>"
      ]
     },
     "metadata": {},
     "output_type": "display_data"
    },
    {
     "data": {
      "application/javascript": [
       "\n",
       "        if (window._pyforest_update_imports_cell) { window._pyforest_update_imports_cell('import seaborn as sns\\nimport matplotlib.pyplot as plt'); }\n",
       "    "
      ],
      "text/plain": [
       "<IPython.core.display.Javascript object>"
      ]
     },
     "metadata": {},
     "output_type": "display_data"
    },
    {
     "data": {
      "application/javascript": [
       "\n",
       "        if (window._pyforest_update_imports_cell) { window._pyforest_update_imports_cell('import seaborn as sns\\nimport matplotlib.pyplot as plt'); }\n",
       "    "
      ],
      "text/plain": [
       "<IPython.core.display.Javascript object>"
      ]
     },
     "metadata": {},
     "output_type": "display_data"
    },
    {
     "data": {
      "application/javascript": [
       "\n",
       "        if (window._pyforest_update_imports_cell) { window._pyforest_update_imports_cell('import seaborn as sns\\nimport matplotlib.pyplot as plt'); }\n",
       "    "
      ],
      "text/plain": [
       "<IPython.core.display.Javascript object>"
      ]
     },
     "metadata": {},
     "output_type": "display_data"
    },
    {
     "data": {
      "application/javascript": [
       "\n",
       "        if (window._pyforest_update_imports_cell) { window._pyforest_update_imports_cell('import seaborn as sns\\nimport matplotlib.pyplot as plt'); }\n",
       "    "
      ],
      "text/plain": [
       "<IPython.core.display.Javascript object>"
      ]
     },
     "metadata": {},
     "output_type": "display_data"
    },
    {
     "data": {
      "application/javascript": [
       "\n",
       "        if (window._pyforest_update_imports_cell) { window._pyforest_update_imports_cell('import seaborn as sns\\nimport matplotlib.pyplot as plt'); }\n",
       "    "
      ],
      "text/plain": [
       "<IPython.core.display.Javascript object>"
      ]
     },
     "metadata": {},
     "output_type": "display_data"
    },
    {
     "data": {
      "application/javascript": [
       "\n",
       "        if (window._pyforest_update_imports_cell) { window._pyforest_update_imports_cell('import seaborn as sns\\nimport matplotlib.pyplot as plt'); }\n",
       "    "
      ],
      "text/plain": [
       "<IPython.core.display.Javascript object>"
      ]
     },
     "metadata": {},
     "output_type": "display_data"
    },
    {
     "data": {
      "image/png": "[encoded data removed]",
      "text/plain": [
       "<Figure size 1500x200 with 1 Axes>"
      ]
     },
     "metadata": {},
     "output_type": "display_data"
    }
   ],
   "source": [
    "print_nan(train_df)"
   ]
  },
  {
   "cell_type": "code",
   "execution_count": 6,
   "id": "3e8bcb7f-e827-47a0-83ea-429623c4509b",
   "metadata": {},
   "outputs": [
    {
     "data": {
      "application/javascript": [
       "\n",
       "        if (window._pyforest_update_imports_cell) { window._pyforest_update_imports_cell('import seaborn as sns\\nimport matplotlib.pyplot as plt'); }\n",
       "    "
      ],
      "text/plain": [
       "<IPython.core.display.Javascript object>"
      ]
     },
     "metadata": {},
     "output_type": "display_data"
    },
    {
     "data": {
      "application/javascript": [
       "\n",
       "        if (window._pyforest_update_imports_cell) { window._pyforest_update_imports_cell('import seaborn as sns\\nimport matplotlib.pyplot as plt'); }\n",
       "    "
      ],
      "text/plain": [
       "<IPython.core.display.Javascript object>"
      ]
     },
     "metadata": {},
     "output_type": "display_data"
    },
    {
     "data": {
      "application/javascript": [
       "\n",
       "        if (window._pyforest_update_imports_cell) { window._pyforest_update_imports_cell('import seaborn as sns\\nimport matplotlib.pyplot as plt'); }\n",
       "    "
      ],
      "text/plain": [
       "<IPython.core.display.Javascript object>"
      ]
     },
     "metadata": {},
     "output_type": "display_data"
    },
    {
     "data": {
      "application/javascript": [
       "\n",
       "        if (window._pyforest_update_imports_cell) { window._pyforest_update_imports_cell('import seaborn as sns\\nimport matplotlib.pyplot as plt'); }\n",
       "    "
      ],
      "text/plain": [
       "<IPython.core.display.Javascript object>"
      ]
     },
     "metadata": {},
     "output_type": "display_data"
    },
    {
     "data": {
      "application/javascript": [
       "\n",
       "        if (window._pyforest_update_imports_cell) { window._pyforest_update_imports_cell('import seaborn as sns\\nimport matplotlib.pyplot as plt'); }\n",
       "    "
      ],
      "text/plain": [
       "<IPython.core.display.Javascript object>"
      ]
     },
     "metadata": {},
     "output_type": "display_data"
    },
    {
     "data": {
      "application/javascript": [
       "\n",
       "        if (window._pyforest_update_imports_cell) { window._pyforest_update_imports_cell('import seaborn as sns\\nimport matplotlib.pyplot as plt'); }\n",
       "    "
      ],
      "text/plain": [
       "<IPython.core.display.Javascript object>"
      ]
     },
     "metadata": {},
     "output_type": "display_data"
    },
    {
     "data": {
      "application/javascript": [
       "\n",
       "        if (window._pyforest_update_imports_cell) { window._pyforest_update_imports_cell('import seaborn as sns\\nimport matplotlib.pyplot as plt'); }\n",
       "    "
      ],
      "text/plain": [
       "<IPython.core.display.Javascript object>"
      ]
     },
     "metadata": {},
     "output_type": "display_data"
    },
    {
     "data": {
      "image/png": "[encoded data removed]",
      "text/plain": [
       "<Figure size 1500x200 with 1 Axes>"
      ]
     },
     "metadata": {},
     "output_type": "display_data"
    }
   ],
   "source": [
    "print_nan(test_df)"
   ]
  },
  {
   "cell_type": "markdown",
   "id": "1dc1a94f-965c-48ba-9157-a5d804c84df4",
   "metadata": {},
   "source": [
    "### EDA"
   ]
  },
  {
   "cell_type": "code",
   "execution_count": 7,
   "id": "325cc85e-78ec-4a3e-8348-f3da068e19d6",
   "metadata": {},
   "outputs": [],
   "source": [
    "# работаем с тренировачной базой\n",
    "data = train_df.copy()"
   ]
  },
  {
   "cell_type": "code",
   "execution_count": 8,
   "id": "e1989e51-d06c-47a8-b15b-b0c458b9dc81",
   "metadata": {},
   "outputs": [],
   "source": [
    "# Заполнение пропущенных значений в Number_of_Ads медианой\n",
    "median_number_of_ads = data['Number_of_Ads'].median()\n",
    "data['Number_of_Ads'].fillna(median_number_of_ads, inplace=True)"
   ]
  },
  {
   "cell_type": "code",
   "execution_count": 9,
   "id": "5c3b8424-f306-4aac-9c1c-aea4befd30fc",
   "metadata": {},
   "outputs": [
    {
     "name": "stdout",
     "output_type": "stream",
     "text": [
      "\n",
      "Бинарный признак 'Наличие гостя' создан:\n",
      "1.0    603970\n",
      "0.0    146030\n",
      "Name: Guest, dtype: int64\n"
     ]
    }
   ],
   "source": [
    "# Создание бинарного признака \"Наличие гостя\"\n",
    "data['Guest'] = data['Guest_Popularity_percentage'].notnull().astype(float)\n",
    "\n",
    "print(\"\\nБинарный признак 'Наличие гостя' создан:\")\n",
    "print(data['Guest'].value_counts())\n",
    "data.drop(columns=['Guest_Popularity_percentage'], inplace=True)"
   ]
  },
  {
   "cell_type": "code",
   "execution_count": 10,
   "id": "fbc89cfc-517f-4cc0-84b5-c9a720e0f0f5",
   "metadata": {},
   "outputs": [],
   "source": [
    "# Delete cols\n",
    "#train_df.drop(columns=['id', 'Episode_Title'], inplace=True, errors='ignore')\n",
    "#test_df.drop(columns=['id', 'Episode_Title'], inplace=True, errors='ignore')"
   ]
  },
  {
   "cell_type": "code",
   "execution_count": 11,
   "id": "873d78d9-50d6-4583-9ad5-01edf125388b",
   "metadata": {},
   "outputs": [],
   "source": [
    "# Прогноз Episode_Length_minutes на основе существующих признаков \n",
    "from sklearn.model_selection import train_test_split\n",
    "from sklearn.ensemble import RandomForestRegressor\n",
    "from sklearn.preprocessing import OneHotEncoder"
   ]
  },
  {
   "cell_type": "code",
   "execution_count": 12,
   "id": "ddd1262d-1235-4d3d-92be-1d897c10910e",
   "metadata": {},
   "outputs": [
    {
     "name": "stdout",
     "output_type": "stream",
     "text": [
      "\n",
      "Разделение данных завершено:\n",
      "- Количество строк для обучения модели: 662907\n",
      "- Количество строк для предсказания: 87093\n"
     ]
    }
   ],
   "source": [
    "# 1. Разделение данных на тренировочную и тестовую выборки\n",
    "# Тренировочные данные: строки с непустыми Episode_Length_minutes\n",
    "train_data = data[data['Episode_Length_minutes'].notnull()]\n",
    "# Данные для предсказания: строки с пропущенными Episode_Length_minutes\n",
    "predict_data = data[data['Episode_Length_minutes'].isnull()]\n",
    "print(\"\\nРазделение данных завершено:\")\n",
    "print(f\"- Количество строк для обучения модели: {train_data.shape[0]}\")\n",
    "print(f\"- Количество строк для предсказания: {predict_data.shape[0]}\")"
   ]
  },
  {
   "cell_type": "code",
   "execution_count": 13,
   "id": "67c3a85e-6221-49aa-afb8-28d7de90733c",
   "metadata": {},
   "outputs": [
    {
     "name": "stdout",
     "output_type": "stream",
     "text": [
      "\n",
      "Признаки успешно подготовлены:\n",
      "- Размерность тренировочных данных: (662907, 24)\n",
      "- Размерность данных для предсказания: (87093, 24)\n"
     ]
    }
   ],
   "source": [
    "# 2. Выбор признаков\n",
    "# Числовые признаки\n",
    "numeric_features = ['Host_Popularity_percentage', 'Guest', 'Number_of_Ads', 'Listening_Time_minutes']\n",
    "\n",
    "# Категориальные признаки\n",
    "categorical_features = ['Genre', 'Publication_Day', 'Episode_Sentiment']\n",
    "\n",
    "# Создание общей матрицы признаков\n",
    "X_train_numeric = train_data[numeric_features]\n",
    "X_predict_numeric = predict_data[numeric_features]\n",
    "\n",
    "# One-Hot-Encoding для категориальных признаков\n",
    "encoder = OneHotEncoder(handle_unknown='ignore')\n",
    "X_train_categorical = encoder.fit_transform(train_data[categorical_features])\n",
    "X_predict_categorical = encoder.transform(predict_data[categorical_features])\n",
    "\n",
    "# Объединение числовых и закодированных категориальных признаков\n",
    "X_train = np.hstack([X_train_numeric, X_train_categorical.toarray()])\n",
    "X_predict = np.hstack([X_predict_numeric, X_predict_categorical.toarray()])\n",
    "\n",
    "# Целевая переменная\n",
    "y_train = train_data['Episode_Length_minutes']\n",
    "\n",
    "print(\"\\nПризнаки успешно подготовлены:\")\n",
    "print(f\"- Размерность тренировочных данных: {X_train.shape}\")\n",
    "print(f\"- Размерность данных для предсказания: {X_predict.shape}\")"
   ]
  },
  {
   "cell_type": "code",
   "execution_count": 14,
   "id": "1e835f26-5996-46fc-b6e1-7c27a575e909",
   "metadata": {},
   "outputs": [
    {
     "name": "stdout",
     "output_type": "stream",
     "text": [
      "\n",
      "Разделение на обучающую и валидационную выборки завершено:\n",
      "- Размер обучающей выборки: 530325\n",
      "- Размер валидационной выборки: 132582\n"
     ]
    }
   ],
   "source": [
    "# 3. Разделение на обучающую и валидационную выборки для оценки модели\n",
    "X_train_split, X_val_split, y_train_split, y_val_split = train_test_split(\n",
    "    X_train, y_train, test_size=0.2, random_state=42\n",
    ")\n",
    "\n",
    "print(\"\\nРазделение на обучающую и валидационную выборки завершено:\")\n",
    "print(f\"- Размер обучающей выборки: {X_train_split.shape[0]}\")\n",
    "print(f\"- Размер валидационной выборки: {X_val_split.shape[0]}\")"
   ]
  },
  {
   "cell_type": "code",
   "execution_count": 15,
   "id": "6babc4b0-7733-4fbd-953d-da6b88d8baa1",
   "metadata": {},
   "outputs": [
    {
     "name": "stdout",
     "output_type": "stream",
     "text": [
      "\n",
      "Начало обучения модели...\n"
     ]
    },
    {
     "name": "stderr",
     "output_type": "stream",
     "text": [
      "[Parallel(n_jobs=-1)]: Using backend ThreadingBackend with 6 concurrent workers.\n",
      "[Parallel(n_jobs=-1)]: Done  38 tasks      | elapsed:   35.1s\n"
     ]
    },
    {
     "name": "stdout",
     "output_type": "stream",
     "text": [
      "Обучение модели завершено.\n"
     ]
    },
    {
     "name": "stderr",
     "output_type": "stream",
     "text": [
      "[Parallel(n_jobs=-1)]: Done 100 out of 100 | elapsed:  1.5min finished\n"
     ]
    }
   ],
   "source": [
    "# 4. Обучение модели\n",
    "model = RandomForestRegressor(random_state=42, n_estimators=100, verbose=1, n_jobs=-1)\n",
    "print(\"\\nНачало обучения модели...\")\n",
    "model.fit(X_train_split, y_train_split)\n",
    "print(\"Обучение модели завершено.\")"
   ]
  },
  {
   "cell_type": "code",
   "execution_count": 16,
   "id": "6a1d8dfd-9f18-43f8-a505-22a39e162243",
   "metadata": {},
   "outputs": [
    {
     "name": "stderr",
     "output_type": "stream",
     "text": [
      "[Parallel(n_jobs=6)]: Using backend ThreadingBackend with 6 concurrent workers.\n",
      "[Parallel(n_jobs=6)]: Done  38 tasks      | elapsed:    1.8s\n"
     ]
    },
    {
     "name": "stdout",
     "output_type": "stream",
     "text": [
      "\n",
      "Оценка качества модели (MAE): 7.96\n"
     ]
    },
    {
     "name": "stderr",
     "output_type": "stream",
     "text": [
      "[Parallel(n_jobs=6)]: Done 100 out of 100 | elapsed:    4.2s finished\n"
     ]
    }
   ],
   "source": [
    "# 5. Оценка качества модели на валидационной выборке\n",
    "from sklearn.metrics import mean_absolute_error\n",
    "y_val_pred = model.predict(X_val_split)\n",
    "mae = mean_absolute_error(y_val_split, y_val_pred)\n",
    "print(f\"\\nОценка качества модели (MAE): {mae:.2f}\")"
   ]
  },
  {
   "cell_type": "code",
   "execution_count": 17,
   "id": "5f410f3d-dfd3-444c-b201-409c0a380dc1",
   "metadata": {},
   "outputs": [
    {
     "name": "stderr",
     "output_type": "stream",
     "text": [
      "[Parallel(n_jobs=6)]: Using backend ThreadingBackend with 6 concurrent workers.\n"
     ]
    },
    {
     "name": "stdout",
     "output_type": "stream",
     "text": [
      "\n",
      "Начало предсказания пропущенных значений...\n"
     ]
    },
    {
     "name": "stderr",
     "output_type": "stream",
     "text": [
      "[Parallel(n_jobs=6)]: Done  38 tasks      | elapsed:    1.2s\n"
     ]
    },
    {
     "name": "stdout",
     "output_type": "stream",
     "text": [
      "Предсказание завершено.\n"
     ]
    },
    {
     "name": "stderr",
     "output_type": "stream",
     "text": [
      "[Parallel(n_jobs=6)]: Done 100 out of 100 | elapsed:    2.3s finished\n"
     ]
    }
   ],
   "source": [
    "# 6. Предсказание пропущенных значений\n",
    "print(\"\\nНачало предсказания пропущенных значений...\")\n",
    "predicted_values = model.predict(X_predict)\n",
    "print(\"Предсказание завершено.\")"
   ]
  },
  {
   "cell_type": "code",
   "execution_count": 18,
   "id": "219787b4-0bba-412f-8802-f11fb3ab047d",
   "metadata": {},
   "outputs": [],
   "source": [
    "# 7. Заполнение пропущенных значений в исходном DataFrame\n",
    "data.loc[data['Episode_Length_minutes'].isnull(), 'Episode_Length_minutes'] = predicted_values"
   ]
  },
  {
   "cell_type": "code",
   "execution_count": 19,
   "id": "3d325f8a-d8a8-4078-b69c-21e4a613e0b5",
   "metadata": {},
   "outputs": [
    {
     "name": "stdout",
     "output_type": "stream",
     "text": [
      "<class 'pandas.core.frame.DataFrame'>\n",
      "RangeIndex: 750000 entries, 0 to 749999\n",
      "Data columns (total 12 columns):\n",
      " #   Column                       Non-Null Count   Dtype  \n",
      "---  ------                       --------------   -----  \n",
      " 0   id                           750000 non-null  int64  \n",
      " 1   Podcast_Name                 750000 non-null  object \n",
      " 2   Episode_Title                750000 non-null  object \n",
      " 3   Episode_Length_minutes       662907 non-null  float64\n",
      " 4   Genre                        750000 non-null  object \n",
      " 5   Host_Popularity_percentage   750000 non-null  float64\n",
      " 6   Publication_Day              750000 non-null  object \n",
      " 7   Publication_Time             750000 non-null  object \n",
      " 8   Guest_Popularity_percentage  603970 non-null  float64\n",
      " 9   Number_of_Ads                749999 non-null  float64\n",
      " 10  Episode_Sentiment            750000 non-null  object \n",
      " 11  Listening_Time_minutes       750000 non-null  float64\n",
      "dtypes: float64(5), int64(1), object(6)\n",
      "memory usage: 68.7+ MB\n"
     ]
    }
   ],
   "source": [
    "train_df.info()"
   ]
  },
  {
   "cell_type": "code",
   "execution_count": 21,
   "id": "56e75927-c836-477b-99b9-36e0d3817daf",
   "metadata": {},
   "outputs": [
    {
     "name": "stdout",
     "output_type": "stream",
     "text": [
      "<class 'pandas.core.frame.DataFrame'>\n",
      "RangeIndex: 750000 entries, 0 to 749999\n",
      "Data columns (total 12 columns):\n",
      " #   Column                      Non-Null Count   Dtype  \n",
      "---  ------                      --------------   -----  \n",
      " 0   id                          750000 non-null  int64  \n",
      " 1   Podcast_Name                750000 non-null  object \n",
      " 2   Episode_Title               750000 non-null  object \n",
      " 3   Episode_Length_minutes      750000 non-null  float64\n",
      " 4   Genre                       750000 non-null  object \n",
      " 5   Host_Popularity_percentage  750000 non-null  float64\n",
      " 6   Publication_Day             750000 non-null  object \n",
      " 7   Publication_Time            750000 non-null  object \n",
      " 8   Number_of_Ads               750000 non-null  float64\n",
      " 9   Episode_Sentiment           750000 non-null  object \n",
      " 10  Listening_Time_minutes      750000 non-null  float64\n",
      " 11  Guest                       750000 non-null  float64\n",
      "dtypes: float64(5), int64(1), object(6)\n",
      "memory usage: 68.7+ MB\n"
     ]
    }
   ],
   "source": [
    "data.info()"
   ]
  },
  {
   "cell_type": "code",
   "execution_count": 22,
   "id": "1945b812-7757-4dc9-a994-26924fd07ad8",
   "metadata": {},
   "outputs": [],
   "source": [
    "# создаем временную точку восстановления\n",
    "data_temp = data.copy()"
   ]
  },
  {
   "cell_type": "code",
   "execution_count": null,
   "id": "fe5f04cd-af60-43e0-9cdb-982ebce77a65",
   "metadata": {},
   "outputs": [],
   "source": [
    "stop"
   ]
  },
  {
   "cell_type": "code",
   "execution_count": 23,
   "id": "2268f266-b4a1-4283-92e4-b0ec4432a251",
   "metadata": {},
   "outputs": [
    {
     "name": "stdout",
     "output_type": "stream",
     "text": [
      "<class 'pandas.core.frame.DataFrame'>\n",
      "RangeIndex: 750000 entries, 0 to 749999\n",
      "Data columns (total 12 columns):\n",
      " #   Column                      Non-Null Count   Dtype  \n",
      "---  ------                      --------------   -----  \n",
      " 0   id                          750000 non-null  int64  \n",
      " 1   Podcast_Name                750000 non-null  object \n",
      " 2   Episode_Title               750000 non-null  object \n",
      " 3   Episode_Length_minutes      750000 non-null  float64\n",
      " 4   Genre                       750000 non-null  object \n",
      " 5   Host_Popularity_percentage  750000 non-null  float64\n",
      " 6   Publication_Day             750000 non-null  object \n",
      " 7   Publication_Time            750000 non-null  object \n",
      " 8   Number_of_Ads               750000 non-null  float64\n",
      " 9   Episode_Sentiment           750000 non-null  object \n",
      " 10  Listening_Time_minutes      750000 non-null  float64\n",
      " 11  Guest                       750000 non-null  float64\n",
      "dtypes: float64(5), int64(1), object(6)\n",
      "memory usage: 68.7+ MB\n"
     ]
    }
   ],
   "source": [
    "data_temp.info()"
   ]
  },
  {
   "cell_type": "code",
   "execution_count": 24,
   "id": "253bd784-32b1-4fac-a309-25b9c4dfef43",
   "metadata": {},
   "outputs": [
    {
     "name": "stdout",
     "output_type": "stream",
     "text": [
      "<class 'pandas.core.frame.DataFrame'>\n",
      "RangeIndex: 250000 entries, 0 to 249999\n",
      "Data columns (total 11 columns):\n",
      " #   Column                       Non-Null Count   Dtype  \n",
      "---  ------                       --------------   -----  \n",
      " 0   id                           250000 non-null  int64  \n",
      " 1   Podcast_Name                 250000 non-null  object \n",
      " 2   Episode_Title                250000 non-null  object \n",
      " 3   Episode_Length_minutes       221264 non-null  float64\n",
      " 4   Genre                        250000 non-null  object \n",
      " 5   Host_Popularity_percentage   250000 non-null  float64\n",
      " 6   Publication_Day              250000 non-null  object \n",
      " 7   Publication_Time             250000 non-null  object \n",
      " 8   Guest_Popularity_percentage  201168 non-null  float64\n",
      " 9   Number_of_Ads                250000 non-null  float64\n",
      " 10  Episode_Sentiment            250000 non-null  object \n",
      "dtypes: float64(4), int64(1), object(6)\n",
      "memory usage: 21.0+ MB\n"
     ]
    }
   ],
   "source": [
    "# разбираемся с test_df\n",
    "test_df.info()"
   ]
  },
  {
   "cell_type": "code",
   "execution_count": 25,
   "id": "e3801063-c2ab-4c3d-b962-4dd40a8dad9c",
   "metadata": {},
   "outputs": [
    {
     "name": "stdout",
     "output_type": "stream",
     "text": [
      "\n",
      "Бинарный признак 'Наличие гостя' создан:\n",
      "1.0    201168\n",
      "0.0     48832\n",
      "Name: Guest, dtype: int64\n"
     ]
    },
    {
     "ename": "KeyError",
     "evalue": "\"['Guest_Popularity_percentage'] not found in axis\"",
     "output_type": "error",
     "traceback": [
      "\u001b[1;31m---------------------------------------------------------------------------\u001b[0m",
      "\u001b[1;31mKeyError\u001b[0m                                  Traceback (most recent call last)",
      "Cell \u001b[1;32mIn[25], line 6\u001b[0m\n\u001b[0;32m      4\u001b[0m \u001b[38;5;28mprint\u001b[39m(\u001b[38;5;124m\"\u001b[39m\u001b[38;5;130;01m\\n\u001b[39;00m\u001b[38;5;124mБинарный признак \u001b[39m\u001b[38;5;124m'\u001b[39m\u001b[38;5;124mНаличие гостя\u001b[39m\u001b[38;5;124m'\u001b[39m\u001b[38;5;124m создан:\u001b[39m\u001b[38;5;124m\"\u001b[39m)\n\u001b[0;32m      5\u001b[0m \u001b[38;5;28mprint\u001b[39m(test_df[\u001b[38;5;124m'\u001b[39m\u001b[38;5;124mGuest\u001b[39m\u001b[38;5;124m'\u001b[39m]\u001b[38;5;241m.\u001b[39mvalue_counts())\n\u001b[1;32m----> 6\u001b[0m data\u001b[38;5;241m.\u001b[39mdrop(columns\u001b[38;5;241m=\u001b[39m[\u001b[38;5;124m'\u001b[39m\u001b[38;5;124mGuest_Popularity_percentage\u001b[39m\u001b[38;5;124m'\u001b[39m], inplace\u001b[38;5;241m=\u001b[39m\u001b[38;5;28;01mTrue\u001b[39;00m)\n\u001b[0;32m      7\u001b[0m test_df\u001b[38;5;241m.\u001b[39minfo()\n",
      "File \u001b[1;32m~\\anaconda3\\Lib\\site-packages\\pandas\\util\\_decorators.py:331\u001b[0m, in \u001b[0;36mdeprecate_nonkeyword_arguments.<locals>.decorate.<locals>.wrapper\u001b[1;34m(*args, **kwargs)\u001b[0m\n\u001b[0;32m    325\u001b[0m \u001b[38;5;28;01mif\u001b[39;00m \u001b[38;5;28mlen\u001b[39m(args) \u001b[38;5;241m>\u001b[39m num_allow_args:\n\u001b[0;32m    326\u001b[0m     warnings\u001b[38;5;241m.\u001b[39mwarn(\n\u001b[0;32m    327\u001b[0m         msg\u001b[38;5;241m.\u001b[39mformat(arguments\u001b[38;5;241m=\u001b[39m_format_argument_list(allow_args)),\n\u001b[0;32m    328\u001b[0m         \u001b[38;5;167;01mFutureWarning\u001b[39;00m,\n\u001b[0;32m    329\u001b[0m         stacklevel\u001b[38;5;241m=\u001b[39mfind_stack_level(),\n\u001b[0;32m    330\u001b[0m     )\n\u001b[1;32m--> 331\u001b[0m \u001b[38;5;28;01mreturn\u001b[39;00m func(\u001b[38;5;241m*\u001b[39margs, \u001b[38;5;241m*\u001b[39m\u001b[38;5;241m*\u001b[39mkwargs)\n",
      "File \u001b[1;32m~\\anaconda3\\Lib\\site-packages\\pandas\\core\\frame.py:5399\u001b[0m, in \u001b[0;36mDataFrame.drop\u001b[1;34m(self, labels, axis, index, columns, level, inplace, errors)\u001b[0m\n\u001b[0;32m   5251\u001b[0m \u001b[38;5;129m@deprecate_nonkeyword_arguments\u001b[39m(version\u001b[38;5;241m=\u001b[39m\u001b[38;5;28;01mNone\u001b[39;00m, allowed_args\u001b[38;5;241m=\u001b[39m[\u001b[38;5;124m\"\u001b[39m\u001b[38;5;124mself\u001b[39m\u001b[38;5;124m\"\u001b[39m, \u001b[38;5;124m\"\u001b[39m\u001b[38;5;124mlabels\u001b[39m\u001b[38;5;124m\"\u001b[39m])\n\u001b[0;32m   5252\u001b[0m \u001b[38;5;28;01mdef\u001b[39;00m \u001b[38;5;21mdrop\u001b[39m(  \u001b[38;5;66;03m# type: ignore[override]\u001b[39;00m\n\u001b[0;32m   5253\u001b[0m     \u001b[38;5;28mself\u001b[39m,\n\u001b[1;32m   (...)\u001b[0m\n\u001b[0;32m   5260\u001b[0m     errors: IgnoreRaise \u001b[38;5;241m=\u001b[39m \u001b[38;5;124m\"\u001b[39m\u001b[38;5;124mraise\u001b[39m\u001b[38;5;124m\"\u001b[39m,\n\u001b[0;32m   5261\u001b[0m ) \u001b[38;5;241m-\u001b[39m\u001b[38;5;241m>\u001b[39m DataFrame \u001b[38;5;241m|\u001b[39m \u001b[38;5;28;01mNone\u001b[39;00m:\n\u001b[0;32m   5262\u001b[0m \u001b[38;5;250m    \u001b[39m\u001b[38;5;124;03m\"\"\"\u001b[39;00m\n\u001b[0;32m   5263\u001b[0m \u001b[38;5;124;03m    Drop specified labels from rows or columns.\u001b[39;00m\n\u001b[0;32m   5264\u001b[0m \n\u001b[1;32m   (...)\u001b[0m\n\u001b[0;32m   5397\u001b[0m \u001b[38;5;124;03m            weight  1.0     0.8\u001b[39;00m\n\u001b[0;32m   5398\u001b[0m \u001b[38;5;124;03m    \"\"\"\u001b[39;00m\n\u001b[1;32m-> 5399\u001b[0m     \u001b[38;5;28;01mreturn\u001b[39;00m \u001b[38;5;28msuper\u001b[39m()\u001b[38;5;241m.\u001b[39mdrop(\n\u001b[0;32m   5400\u001b[0m         labels\u001b[38;5;241m=\u001b[39mlabels,\n\u001b[0;32m   5401\u001b[0m         axis\u001b[38;5;241m=\u001b[39maxis,\n\u001b[0;32m   5402\u001b[0m         index\u001b[38;5;241m=\u001b[39mindex,\n\u001b[0;32m   5403\u001b[0m         columns\u001b[38;5;241m=\u001b[39mcolumns,\n\u001b[0;32m   5404\u001b[0m         level\u001b[38;5;241m=\u001b[39mlevel,\n\u001b[0;32m   5405\u001b[0m         inplace\u001b[38;5;241m=\u001b[39minplace,\n\u001b[0;32m   5406\u001b[0m         errors\u001b[38;5;241m=\u001b[39merrors,\n\u001b[0;32m   5407\u001b[0m     )\n",
      "File \u001b[1;32m~\\anaconda3\\Lib\\site-packages\\pandas\\util\\_decorators.py:331\u001b[0m, in \u001b[0;36mdeprecate_nonkeyword_arguments.<locals>.decorate.<locals>.wrapper\u001b[1;34m(*args, **kwargs)\u001b[0m\n\u001b[0;32m    325\u001b[0m \u001b[38;5;28;01mif\u001b[39;00m \u001b[38;5;28mlen\u001b[39m(args) \u001b[38;5;241m>\u001b[39m num_allow_args:\n\u001b[0;32m    326\u001b[0m     warnings\u001b[38;5;241m.\u001b[39mwarn(\n\u001b[0;32m    327\u001b[0m         msg\u001b[38;5;241m.\u001b[39mformat(arguments\u001b[38;5;241m=\u001b[39m_format_argument_list(allow_args)),\n\u001b[0;32m    328\u001b[0m         \u001b[38;5;167;01mFutureWarning\u001b[39;00m,\n\u001b[0;32m    329\u001b[0m         stacklevel\u001b[38;5;241m=\u001b[39mfind_stack_level(),\n\u001b[0;32m    330\u001b[0m     )\n\u001b[1;32m--> 331\u001b[0m \u001b[38;5;28;01mreturn\u001b[39;00m func(\u001b[38;5;241m*\u001b[39margs, \u001b[38;5;241m*\u001b[39m\u001b[38;5;241m*\u001b[39mkwargs)\n",
      "File \u001b[1;32m~\\anaconda3\\Lib\\site-packages\\pandas\\core\\generic.py:4505\u001b[0m, in \u001b[0;36mNDFrame.drop\u001b[1;34m(self, labels, axis, index, columns, level, inplace, errors)\u001b[0m\n\u001b[0;32m   4503\u001b[0m \u001b[38;5;28;01mfor\u001b[39;00m axis, labels \u001b[38;5;129;01min\u001b[39;00m axes\u001b[38;5;241m.\u001b[39mitems():\n\u001b[0;32m   4504\u001b[0m     \u001b[38;5;28;01mif\u001b[39;00m labels \u001b[38;5;129;01mis\u001b[39;00m \u001b[38;5;129;01mnot\u001b[39;00m \u001b[38;5;28;01mNone\u001b[39;00m:\n\u001b[1;32m-> 4505\u001b[0m         obj \u001b[38;5;241m=\u001b[39m obj\u001b[38;5;241m.\u001b[39m_drop_axis(labels, axis, level\u001b[38;5;241m=\u001b[39mlevel, errors\u001b[38;5;241m=\u001b[39merrors)\n\u001b[0;32m   4507\u001b[0m \u001b[38;5;28;01mif\u001b[39;00m inplace:\n\u001b[0;32m   4508\u001b[0m     \u001b[38;5;28mself\u001b[39m\u001b[38;5;241m.\u001b[39m_update_inplace(obj)\n",
      "File \u001b[1;32m~\\anaconda3\\Lib\\site-packages\\pandas\\core\\generic.py:4546\u001b[0m, in \u001b[0;36mNDFrame._drop_axis\u001b[1;34m(self, labels, axis, level, errors, only_slice)\u001b[0m\n\u001b[0;32m   4544\u001b[0m         new_axis \u001b[38;5;241m=\u001b[39m axis\u001b[38;5;241m.\u001b[39mdrop(labels, level\u001b[38;5;241m=\u001b[39mlevel, errors\u001b[38;5;241m=\u001b[39merrors)\n\u001b[0;32m   4545\u001b[0m     \u001b[38;5;28;01melse\u001b[39;00m:\n\u001b[1;32m-> 4546\u001b[0m         new_axis \u001b[38;5;241m=\u001b[39m axis\u001b[38;5;241m.\u001b[39mdrop(labels, errors\u001b[38;5;241m=\u001b[39merrors)\n\u001b[0;32m   4547\u001b[0m     indexer \u001b[38;5;241m=\u001b[39m axis\u001b[38;5;241m.\u001b[39mget_indexer(new_axis)\n\u001b[0;32m   4549\u001b[0m \u001b[38;5;66;03m# Case for non-unique axis\u001b[39;00m\n\u001b[0;32m   4550\u001b[0m \u001b[38;5;28;01melse\u001b[39;00m:\n",
      "File \u001b[1;32m~\\anaconda3\\Lib\\site-packages\\pandas\\core\\indexes\\base.py:6934\u001b[0m, in \u001b[0;36mIndex.drop\u001b[1;34m(self, labels, errors)\u001b[0m\n\u001b[0;32m   6932\u001b[0m \u001b[38;5;28;01mif\u001b[39;00m mask\u001b[38;5;241m.\u001b[39many():\n\u001b[0;32m   6933\u001b[0m     \u001b[38;5;28;01mif\u001b[39;00m errors \u001b[38;5;241m!=\u001b[39m \u001b[38;5;124m\"\u001b[39m\u001b[38;5;124mignore\u001b[39m\u001b[38;5;124m\"\u001b[39m:\n\u001b[1;32m-> 6934\u001b[0m         \u001b[38;5;28;01mraise\u001b[39;00m \u001b[38;5;167;01mKeyError\u001b[39;00m(\u001b[38;5;124mf\u001b[39m\u001b[38;5;124m\"\u001b[39m\u001b[38;5;132;01m{\u001b[39;00m\u001b[38;5;28mlist\u001b[39m(labels[mask])\u001b[38;5;132;01m}\u001b[39;00m\u001b[38;5;124m not found in axis\u001b[39m\u001b[38;5;124m\"\u001b[39m)\n\u001b[0;32m   6935\u001b[0m     indexer \u001b[38;5;241m=\u001b[39m indexer[\u001b[38;5;241m~\u001b[39mmask]\n\u001b[0;32m   6936\u001b[0m \u001b[38;5;28;01mreturn\u001b[39;00m \u001b[38;5;28mself\u001b[39m\u001b[38;5;241m.\u001b[39mdelete(indexer)\n",
      "\u001b[1;31mKeyError\u001b[0m: \"['Guest_Popularity_percentage'] not found in axis\""
     ]
    }
   ],
   "source": [
    "# Создание бинарного признака \"Наличие гостя\"\n",
    "test_df['Guest'] = test_df['Guest_Popularity_percentage'].notnull().astype(float)\n",
    "\n",
    "print(\"\\nБинарный признак 'Наличие гостя' создан:\")\n",
    "print(test_df['Guest'].value_counts())\n",
    "test_df.drop(columns=['Guest_Popularity_percentage'], inplace=True)\n",
    "test_df.info()"
   ]
  },
  {
   "cell_type": "code",
   "execution_count": 27,
   "id": "b4a9d8ec-9415-46aa-84cc-a9dfc2c66485",
   "metadata": {},
   "outputs": [
    {
     "name": "stdout",
     "output_type": "stream",
     "text": [
      "<class 'pandas.core.frame.DataFrame'>\n",
      "RangeIndex: 250000 entries, 0 to 249999\n",
      "Data columns (total 11 columns):\n",
      " #   Column                      Non-Null Count   Dtype  \n",
      "---  ------                      --------------   -----  \n",
      " 0   id                          250000 non-null  int64  \n",
      " 1   Podcast_Name                250000 non-null  object \n",
      " 2   Episode_Title               250000 non-null  object \n",
      " 3   Episode_Length_minutes      221264 non-null  float64\n",
      " 4   Genre                       250000 non-null  object \n",
      " 5   Host_Popularity_percentage  250000 non-null  float64\n",
      " 6   Publication_Day             250000 non-null  object \n",
      " 7   Publication_Time            250000 non-null  object \n",
      " 8   Number_of_Ads               250000 non-null  float64\n",
      " 9   Episode_Sentiment           250000 non-null  object \n",
      " 10  Guest                       250000 non-null  float64\n",
      "dtypes: float64(4), int64(1), object(6)\n",
      "memory usage: 21.0+ MB\n"
     ]
    }
   ],
   "source": [
    "test_df.info()"
   ]
  },
  {
   "cell_type": "code",
   "execution_count": 29,
   "id": "82f7b9c6-dcf3-4674-8318-c56bb6b16098",
   "metadata": {},
   "outputs": [
    {
     "name": "stdout",
     "output_type": "stream",
     "text": [
      "<class 'pandas.core.frame.DataFrame'>\n",
      "RangeIndex: 750000 entries, 0 to 749999\n",
      "Data columns (total 12 columns):\n",
      " #   Column                      Non-Null Count   Dtype  \n",
      "---  ------                      --------------   -----  \n",
      " 0   id                          750000 non-null  int64  \n",
      " 1   Podcast_Name                750000 non-null  object \n",
      " 2   Episode_Title               750000 non-null  object \n",
      " 3   Episode_Length_minutes      750000 non-null  float64\n",
      " 4   Genre                       750000 non-null  object \n",
      " 5   Host_Popularity_percentage  750000 non-null  float64\n",
      " 6   Publication_Day             750000 non-null  object \n",
      " 7   Publication_Time            750000 non-null  object \n",
      " 8   Number_of_Ads               750000 non-null  float64\n",
      " 9   Episode_Sentiment           750000 non-null  object \n",
      " 10  Listening_Time_minutes      750000 non-null  float64\n",
      " 11  Guest                       750000 non-null  float64\n",
      "dtypes: float64(5), int64(1), object(6)\n",
      "memory usage: 68.7+ MB\n"
     ]
    }
   ],
   "source": [
    "data.info()"
   ]
  },
  {
   "cell_type": "code",
   "execution_count": null,
   "id": "8b09f6ea-3f7b-4714-bcbf-716760417dd1",
   "metadata": {},
   "outputs": [],
   "source": [
    "# нужно разобраться с Episode_Length_minutes. Заполним "
   ]
  },
  {
   "cell_type": "code",
   "execution_count": 37,
   "id": "bb39c9a9-fa5d-4000-a9f3-886b2bb42db6",
   "metadata": {},
   "outputs": [],
   "source": [
    "from sklearn.impute import KNNImputer"
   ]
  },
  {
   "cell_type": "code",
   "execution_count": 42,
   "id": "33dec48c-f6a7-416c-806e-4ea6a404c880",
   "metadata": {},
   "outputs": [
    {
     "name": "stdout",
     "output_type": "stream",
     "text": [
      "\n",
      "Признаки успешно подготовлены:\n",
      "- Размерность данных: (250000, 24)\n"
     ]
    }
   ],
   "source": [
    "# 1. Выбор признаков\n",
    "numeric_features = [\n",
    "    'Host_Popularity_percentage', 'Guest', 'Number_of_Ads'\n",
    "]\n",
    "categorical_features = ['Genre', 'Publication_Day', 'Episode_Sentiment']\n",
    "\n",
    "# Числовые признаки\n",
    "X_numeric = test_df[numeric_features]\n",
    "\n",
    "# Категориальные признаки (One-Hot-Encoding)\n",
    "encoder = OneHotEncoder(handle_unknown='ignore')\n",
    "X_categorical = encoder.fit_transform(test_df[categorical_features])\n",
    "\n",
    "# Объединение числовых и закодированных категориальных признаков\n",
    "X = np.hstack([X_numeric, X_categorical.toarray()])\n",
    "\n",
    "# Добавление целевой переменной (Episode_Length_minutes) в данные\n",
    "y = test_df['Episode_Length_minutes'].values.reshape(-1, 1)\n",
    "X_with_target = np.hstack([X, y])\n",
    "print(\"\\nПризнаки успешно подготовлены:\")\n",
    "print(f\"- Размерность данных: {X_with_target.shape}\")"
   ]
  },
  {
   "cell_type": "code",
   "execution_count": 43,
   "id": "89e813e6-ccfe-4a36-a952-b1189adf4bb7",
   "metadata": {},
   "outputs": [
    {
     "name": "stdout",
     "output_type": "stream",
     "text": [
      "\n",
      "Начало обучения KNN-импутера...\n",
      "Обучение KNN-импутера завершено.\n"
     ]
    }
   ],
   "source": [
    "# 2. Обучение KNN-импутера\n",
    "imputer = KNNImputer(n_neighbors=5)  # Используем 5 ближайших соседей\n",
    "print(\"\\nНачало обучения KNN-импутера...\")\n",
    "X_imputed = imputer.fit_transform(X_with_target)\n",
    "print(\"Обучение KNN-импутера завершено.\")\n"
   ]
  },
  {
   "cell_type": "code",
   "execution_count": 44,
   "id": "57474eb3-bb53-4a2f-bdae-d0303a45e1ae",
   "metadata": {},
   "outputs": [
    {
     "name": "stdout",
     "output_type": "stream",
     "text": [
      "\n",
      "Пропущенные значения в Episode_Length_minutes успешно заполнены!\n"
     ]
    }
   ],
   "source": [
    "# 3. Заполнение пропущенных значений\n",
    "# Последний столбец содержит предсказанные значения Episode_Length_minutes\n",
    "test_df['Episode_Length_minutes'] = X_imputed[:, -1]\n",
    "\n",
    "print(\"\\nПропущенные значения в Episode_Length_minutes успешно заполнены!\")"
   ]
  },
  {
   "cell_type": "code",
   "execution_count": 45,
   "id": "1e956ced-4f77-4e02-9beb-4b574bfe339b",
   "metadata": {},
   "outputs": [
    {
     "name": "stdout",
     "output_type": "stream",
     "text": [
      "<class 'pandas.core.frame.DataFrame'>\n",
      "RangeIndex: 250000 entries, 0 to 249999\n",
      "Data columns (total 11 columns):\n",
      " #   Column                      Non-Null Count   Dtype  \n",
      "---  ------                      --------------   -----  \n",
      " 0   id                          250000 non-null  int64  \n",
      " 1   Podcast_Name                250000 non-null  object \n",
      " 2   Episode_Title               250000 non-null  object \n",
      " 3   Episode_Length_minutes      250000 non-null  float64\n",
      " 4   Genre                       250000 non-null  object \n",
      " 5   Host_Popularity_percentage  250000 non-null  float64\n",
      " 6   Publication_Day             250000 non-null  object \n",
      " 7   Publication_Time            250000 non-null  object \n",
      " 8   Number_of_Ads               250000 non-null  float64\n",
      " 9   Episode_Sentiment           250000 non-null  object \n",
      " 10  Guest                       250000 non-null  float64\n",
      "dtypes: float64(4), int64(1), object(6)\n",
      "memory usage: 21.0+ MB\n"
     ]
    }
   ],
   "source": [
    "test_df.info()"
   ]
  },
  {
   "cell_type": "code",
   "execution_count": 46,
   "id": "ca9a3176-0308-4d1a-a65d-3f8f02612b11",
   "metadata": {},
   "outputs": [
    {
     "name": "stdout",
     "output_type": "stream",
     "text": [
      "<class 'pandas.core.frame.DataFrame'>\n",
      "RangeIndex: 750000 entries, 0 to 749999\n",
      "Data columns (total 12 columns):\n",
      " #   Column                      Non-Null Count   Dtype  \n",
      "---  ------                      --------------   -----  \n",
      " 0   id                          750000 non-null  int64  \n",
      " 1   Podcast_Name                750000 non-null  object \n",
      " 2   Episode_Title               750000 non-null  object \n",
      " 3   Episode_Length_minutes      750000 non-null  float64\n",
      " 4   Genre                       750000 non-null  object \n",
      " 5   Host_Popularity_percentage  750000 non-null  float64\n",
      " 6   Publication_Day             750000 non-null  object \n",
      " 7   Publication_Time            750000 non-null  object \n",
      " 8   Number_of_Ads               750000 non-null  float64\n",
      " 9   Episode_Sentiment           750000 non-null  object \n",
      " 10  Listening_Time_minutes      750000 non-null  float64\n",
      " 11  Guest                       750000 non-null  float64\n",
      "dtypes: float64(5), int64(1), object(6)\n",
      "memory usage: 68.7+ MB\n"
     ]
    }
   ],
   "source": [
    "data.info()"
   ]
  },
  {
   "cell_type": "markdown",
   "id": "b8d07946-89e7-4bb2-83c2-8d6ac84a3f0c",
   "metadata": {},
   "source": [
    "### Обогащение модели предикторами"
   ]
  },
  {
   "cell_type": "code",
   "execution_count": 47,
   "id": "0148ce36-a429-423a-a1e4-74c9c4885593",
   "metadata": {},
   "outputs": [
    {
     "name": "stdout",
     "output_type": "stream",
     "text": [
      "\n",
      "Новые предикторы успешно добавлены.\n"
     ]
    }
   ],
   "source": [
    "# 1. Средняя длина эпизодов по подкастам\n",
    "average_episode_length_by_podcast = data.groupby('Podcast_Name')['Episode_Length_minutes'].mean()\n",
    "data['Average_Episode_Length'] = data['Podcast_Name'].map(average_episode_length_by_podcast)\n",
    "\n",
    "test_average_episode_length_by_podcast = test_df.groupby('Podcast_Name')['Episode_Length_minutes'].mean()\n",
    "test_df['Average_Episode_Length'] = test_df['Podcast_Name'].map(test_average_episode_length_by_podcast)\n",
    "\n",
    "# 2. Отклонение длины эпизода от средней длины подкаста\n",
    "data['Episode_Length_Deviation'] = data['Episode_Length_minutes'] - data['Average_Episode_Length']\n",
    "test_df['Episode_Length_Deviation'] = test_df['Episode_Length_minutes'] - test_df['Average_Episode_Length']\n",
    "\n",
    "# 3. Популярность ведущего, нормированная на количество рекламы\n",
    "data['Normalized_Host_Popularity'] = data['Host_Popularity_percentage'] / (data['Number_of_Ads'] + 1)\n",
    "test_df['Normalized_Host_Popularity'] = test_df['Host_Popularity_percentage'] / (test_df['Number_of_Ads'] + 1)\n",
    "\n",
    "# 4. Взаимодействие между длиной эпизода и количеством рекламы\n",
    "data['Episode_Length_x_Number_of_Ads'] = data['Episode_Length_minutes'] * data['Number_of_Ads']\n",
    "test_df['Episode_Length_x_Number_of_Ads'] = test_df['Episode_Length_minutes'] * test_df['Number_of_Ads']\n",
    "\n",
    "print(\"\\nНовые предикторы успешно добавлены.\")\n"
   ]
  },
  {
   "cell_type": "code",
   "execution_count": 48,
   "id": "633a96c5-87cd-4789-a0a2-ff992234aa05",
   "metadata": {},
   "outputs": [
    {
     "name": "stdout",
     "output_type": "stream",
     "text": [
      "<class 'pandas.core.frame.DataFrame'>\n",
      "RangeIndex: 750000 entries, 0 to 749999\n",
      "Data columns (total 16 columns):\n",
      " #   Column                          Non-Null Count   Dtype  \n",
      "---  ------                          --------------   -----  \n",
      " 0   id                              750000 non-null  int64  \n",
      " 1   Podcast_Name                    750000 non-null  object \n",
      " 2   Episode_Title                   750000 non-null  object \n",
      " 3   Episode_Length_minutes          750000 non-null  float64\n",
      " 4   Genre                           750000 non-null  object \n",
      " 5   Host_Popularity_percentage      750000 non-null  float64\n",
      " 6   Publication_Day                 750000 non-null  object \n",
      " 7   Publication_Time                750000 non-null  object \n",
      " 8   Number_of_Ads                   750000 non-null  float64\n",
      " 9   Episode_Sentiment               750000 non-null  object \n",
      " 10  Listening_Time_minutes          750000 non-null  float64\n",
      " 11  Guest                           750000 non-null  float64\n",
      " 12  Average_Episode_Length          750000 non-null  float64\n",
      " 13  Episode_Length_Deviation        750000 non-null  float64\n",
      " 14  Normalized_Host_Popularity      750000 non-null  float64\n",
      " 15  Episode_Length_x_Number_of_Ads  750000 non-null  float64\n",
      "dtypes: float64(9), int64(1), object(6)\n",
      "memory usage: 91.6+ MB\n"
     ]
    }
   ],
   "source": [
    "data.info()"
   ]
  },
  {
   "cell_type": "code",
   "execution_count": 49,
   "id": "62482f09-4f91-4ec0-bfec-111265ca0e3e",
   "metadata": {},
   "outputs": [
    {
     "name": "stdout",
     "output_type": "stream",
     "text": [
      "<class 'pandas.core.frame.DataFrame'>\n",
      "RangeIndex: 250000 entries, 0 to 249999\n",
      "Data columns (total 15 columns):\n",
      " #   Column                          Non-Null Count   Dtype  \n",
      "---  ------                          --------------   -----  \n",
      " 0   id                              250000 non-null  int64  \n",
      " 1   Podcast_Name                    250000 non-null  object \n",
      " 2   Episode_Title                   250000 non-null  object \n",
      " 3   Episode_Length_minutes          250000 non-null  float64\n",
      " 4   Genre                           250000 non-null  object \n",
      " 5   Host_Popularity_percentage      250000 non-null  float64\n",
      " 6   Publication_Day                 250000 non-null  object \n",
      " 7   Publication_Time                250000 non-null  object \n",
      " 8   Number_of_Ads                   250000 non-null  float64\n",
      " 9   Episode_Sentiment               250000 non-null  object \n",
      " 10  Guest                           250000 non-null  float64\n",
      " 11  Average_Episode_Length          250000 non-null  float64\n",
      " 12  Episode_Length_Deviation        250000 non-null  float64\n",
      " 13  Normalized_Host_Popularity      250000 non-null  float64\n",
      " 14  Episode_Length_x_Number_of_Ads  250000 non-null  float64\n",
      "dtypes: float64(8), int64(1), object(6)\n",
      "memory usage: 28.6+ MB\n"
     ]
    }
   ],
   "source": [
    "test_df.info()"
   ]
  },
  {
   "cell_type": "code",
   "execution_count": 50,
   "id": "442260d3-02bd-440d-83f3-75aa4b2bbbf1",
   "metadata": {},
   "outputs": [],
   "source": [
    "train_df = data.copy()"
   ]
  },
  {
   "cell_type": "code",
   "execution_count": 51,
   "id": "81c77f3a-4040-4cd0-a1cf-c76c0613ec0b",
   "metadata": {},
   "outputs": [
    {
     "name": "stdout",
     "output_type": "stream",
     "text": [
      "<class 'pandas.core.frame.DataFrame'>\n",
      "RangeIndex: 750000 entries, 0 to 749999\n",
      "Data columns (total 16 columns):\n",
      " #   Column                          Non-Null Count   Dtype  \n",
      "---  ------                          --------------   -----  \n",
      " 0   id                              750000 non-null  int64  \n",
      " 1   Podcast_Name                    750000 non-null  object \n",
      " 2   Episode_Title                   750000 non-null  object \n",
      " 3   Episode_Length_minutes          750000 non-null  float64\n",
      " 4   Genre                           750000 non-null  object \n",
      " 5   Host_Popularity_percentage      750000 non-null  float64\n",
      " 6   Publication_Day                 750000 non-null  object \n",
      " 7   Publication_Time                750000 non-null  object \n",
      " 8   Number_of_Ads                   750000 non-null  float64\n",
      " 9   Episode_Sentiment               750000 non-null  object \n",
      " 10  Listening_Time_minutes          750000 non-null  float64\n",
      " 11  Guest                           750000 non-null  float64\n",
      " 12  Average_Episode_Length          750000 non-null  float64\n",
      " 13  Episode_Length_Deviation        750000 non-null  float64\n",
      " 14  Normalized_Host_Popularity      750000 non-null  float64\n",
      " 15  Episode_Length_x_Number_of_Ads  750000 non-null  float64\n",
      "dtypes: float64(9), int64(1), object(6)\n",
      "memory usage: 91.6+ MB\n"
     ]
    }
   ],
   "source": [
    "train_df.info()"
   ]
  },
  {
   "cell_type": "code",
   "execution_count": 62,
   "id": "113a15cb-f701-43c4-9c93-0dda3591a339",
   "metadata": {},
   "outputs": [
    {
     "name": "stdout",
     "output_type": "stream",
     "text": [
      "\n",
      "Признаки успешно подготовлены:\n",
      "- Размерность тренировочных данных: (750000, 28)\n",
      "- Размерность тестовых данных: (250000, 28)\n",
      "\n",
      "Разделение данных завершено:\n",
      "- Размер обучающей выборки: 600000\n",
      "- Размер валидационной выборки: 150000\n",
      "\n",
      "Начало обучения модели...\n"
     ]
    },
    {
     "name": "stderr",
     "output_type": "stream",
     "text": [
      "[Parallel(n_jobs=-1)]: Using backend ThreadingBackend with 6 concurrent workers.\n",
      "[Parallel(n_jobs=-1)]: Done  38 tasks      | elapsed:  1.1min\n",
      "[Parallel(n_jobs=-1)]: Done 100 out of 100 | elapsed:  2.8min finished\n",
      "[Parallel(n_jobs=6)]: Using backend ThreadingBackend with 6 concurrent workers.\n"
     ]
    },
    {
     "name": "stdout",
     "output_type": "stream",
     "text": [
      "Обучение модели завершено.\n"
     ]
    },
    {
     "name": "stderr",
     "output_type": "stream",
     "text": [
      "[Parallel(n_jobs=6)]: Done  38 tasks      | elapsed:    8.1s\n",
      "[Parallel(n_jobs=6)]: Done 100 out of 100 | elapsed:   19.7s finished\n"
     ]
    },
    {
     "name": "stdout",
     "output_type": "stream",
     "text": [
      "\n",
      "Оценка качества модели (RMSE): 9.80\n",
      "\n",
      "Начало предсказания значений для test_df...\n"
     ]
    },
    {
     "name": "stderr",
     "output_type": "stream",
     "text": [
      "[Parallel(n_jobs=6)]: Using backend ThreadingBackend with 6 concurrent workers.\n",
      "[Parallel(n_jobs=6)]: Done  38 tasks      | elapsed:    8.8s\n"
     ]
    },
    {
     "name": "stdout",
     "output_type": "stream",
     "text": [
      "Предсказание завершено.\n"
     ]
    },
    {
     "name": "stderr",
     "output_type": "stream",
     "text": [
      "[Parallel(n_jobs=6)]: Done 100 out of 100 | elapsed:   19.9s finished\n"
     ]
    }
   ],
   "source": [
    "# 1. Выбор признаков\n",
    "numeric_features = [\n",
    "    'Episode_Length_minutes', 'Host_Popularity_percentage', 'Number_of_Ads',\n",
    "    'Guest', 'Average_Episode_Length', 'Episode_Length_Deviation',\n",
    "    'Normalized_Host_Popularity', 'Episode_Length_x_Number_of_Ads'\n",
    "]\n",
    "categorical_features = ['Genre', 'Publication_Day', 'Episode_Sentiment']\n",
    "\n",
    "# Числовые признаки\n",
    "X_train_numeric = train_df[numeric_features]\n",
    "X_test_numeric = test_df[numeric_features]\n",
    "\n",
    "# Категориальные признаки (One-Hot-Encoding)\n",
    "encoder = OneHotEncoder(handle_unknown='ignore')\n",
    "X_train_categorical = encoder.fit_transform(train_df[categorical_features])\n",
    "X_test_categorical = encoder.transform(test_df[categorical_features])\n",
    "\n",
    "# Объединение числовых и закодированных категориальных признаков\n",
    "X_train = np.hstack([X_train_numeric, X_train_categorical.toarray()])\n",
    "X_test = np.hstack([X_test_numeric, X_test_categorical.toarray()])\n",
    "\n",
    "# Целевая переменная\n",
    "y_train = train_df['Listening_Time_minutes']\n",
    "\n",
    "print(\"\\nПризнаки успешно подготовлены:\")\n",
    "print(f\"- Размерность тренировочных данных: {X_train.shape}\")\n",
    "print(f\"- Размерность тестовых данных: {X_test.shape}\")\n",
    "\n",
    "# 2. Разделение данных на обучающую и валидационную выборки\n",
    "X_train_split, X_val_split, y_train_split, y_val_split = train_test_split(\n",
    "    X_train, y_train, test_size=0.2, random_state=42\n",
    ")\n",
    "\n",
    "print(\"\\nРазделение данных завершено:\")\n",
    "print(f\"- Размер обучающей выборки: {X_train_split.shape[0]}\")\n",
    "print(f\"- Размер валидационной выборки: {X_val_split.shape[0]}\")\n",
    "\n",
    "# 3. Обучение модели\n",
    "model = RandomForestRegressor(random_state=42, n_estimators=100, verbose=1, n_jobs=-1)\n",
    "print(\"\\nНачало обучения модели...\")\n",
    "model.fit(X_train_split, y_train_split)\n",
    "print(\"Обучение модели завершено.\")\n",
    "\n",
    "# 4. Оценка качества модели на валидационной выборке\n",
    "y_val_pred = model.predict(X_val_split)\n",
    "rmse = np.sqrt(mean_squared_error(y_val_split, y_val_pred))\n",
    "print(f\"\\nОценка качества модели (RMSE): {rmse:.2f}\")\n",
    "\n",
    "# 5. Предсказание значений для test_df\n",
    "print(\"\\nНачало предсказания значений для test_df...\")\n",
    "reg_test_predictions = model.predict(X_test)\n",
    "print(\"Предсказание завершено.\")\n"
   ]
  },
  {
   "cell_type": "code",
   "execution_count": 53,
   "id": "f61db585-bf43-488c-98ce-de7de8a88a6b",
   "metadata": {},
   "outputs": [
    {
     "name": "stdout",
     "output_type": "stream",
     "text": [
      "Submission saved!\n"
     ]
    }
   ],
   "source": [
    "# Create submission\n",
    "submission = pd.DataFrame({\n",
    "    'id': test_ids,\n",
    "    'Listening_Time_minutes': test_predictions\n",
    "})\n",
    "submission.to_csv('d:\\\\ml\\\\playground\\\\submission_final.csv', index=False)\n",
    "print(\"Submission saved!\")"
   ]
  },
  {
   "cell_type": "code",
   "execution_count": 54,
   "id": "ee2f8e9b-2c68-4e6c-acbc-27d258bc02c8",
   "metadata": {},
   "outputs": [],
   "source": [
    "import lightgbm as lgb"
   ]
  },
  {
   "cell_type": "code",
   "execution_count": 55,
   "id": "d49b6b47-cc05-4307-b570-a89f6ecb4f62",
   "metadata": {},
   "outputs": [
    {
     "data": {
      "application/javascript": [
       "\n",
       "        if (window._pyforest_update_imports_cell) { window._pyforest_update_imports_cell('from sklearn.model_selection import GridSearchCV\\nimport seaborn as sns\\nimport matplotlib.pyplot as plt'); }\n",
       "    "
      ],
      "text/plain": [
       "<IPython.core.display.Javascript object>"
      ]
     },
     "metadata": {},
     "output_type": "display_data"
    },
    {
     "name": "stdout",
     "output_type": "stream",
     "text": [
      "\n",
      "Начало подбора гиперпараметров...\n",
      "Fitting 3 folds for each of 16 candidates, totalling 48 fits\n",
      "Подбор гиперпараметров завершён.\n",
      "\n",
      "Лучшие параметры: {'learning_rate': 0.1, 'max_depth': 10, 'n_estimators': 200, 'num_leaves': 50}\n",
      "\n",
      "Оценка качества модели (RMSE): 9.97\n",
      "\n",
      "Начало предсказания значений для test_df...\n",
      "Предсказание завершено.\n"
     ]
    }
   ],
   "source": [
    "# 1. Создание модели LightGBM\n",
    "lgb_model = lgb.LGBMRegressor(random_state=42, verbose=-1)\n",
    "\n",
    "# 2. Подбор гиперпараметров с помощью GridSearchCV\n",
    "param_grid = {\n",
    "    'n_estimators': [100, 200],\n",
    "    'learning_rate': [0.01, 0.1],\n",
    "    'max_depth': [5, 10],\n",
    "    'num_leaves': [31, 50]\n",
    "}\n",
    "\n",
    "grid_search = GridSearchCV(\n",
    "    estimator=lgb_model,\n",
    "    param_grid=param_grid,\n",
    "    scoring='neg_root_mean_squared_error',\n",
    "    cv=3,\n",
    "    verbose=2,\n",
    "    n_jobs=-1\n",
    ")\n",
    "\n",
    "print(\"\\nНачало подбора гиперпараметров...\")\n",
    "grid_search.fit(X_train_split, y_train_split)\n",
    "print(\"Подбор гиперпараметров завершён.\")\n",
    "\n",
    "# Лучшие параметры\n",
    "best_params = grid_search.best_params_\n",
    "print(f\"\\nЛучшие параметры: {best_params}\")\n",
    "\n",
    "# Лучшая модель\n",
    "best_model = grid_search.best_estimator_\n",
    "\n",
    "# 3. Оценка качества модели на валидационной выборке\n",
    "y_val_pred = best_model.predict(X_val_split)\n",
    "rmse = np.sqrt(mean_squared_error(y_val_split, y_val_pred))\n",
    "print(f\"\\nОценка качества модели (RMSE): {rmse:.2f}\")\n",
    "\n",
    "# 4. Предсказание значений для test_df\n",
    "print(\"\\nНачало предсказания значений для test_df...\")\n",
    "test_predictions = best_model.predict(X_test)\n",
    "print(\"Предсказание завершено.\")\n"
   ]
  },
  {
   "cell_type": "code",
   "execution_count": 56,
   "id": "bbee05c1-eaa2-44b2-a253-08fac7a2ad92",
   "metadata": {},
   "outputs": [
    {
     "name": "stdout",
     "output_type": "stream",
     "text": [
      "Submission saved!\n"
     ]
    }
   ],
   "source": [
    "# Create submission\n",
    "submission = pd.DataFrame({\n",
    "    'id': test_ids,\n",
    "    'Listening_Time_minutes': test_predictions\n",
    "})\n",
    "submission.to_csv('d:\\\\ml\\\\playground\\\\submission_lgbm.csv', index=False)\n",
    "print(\"Submission saved!\")"
   ]
  },
  {
   "cell_type": "code",
   "execution_count": 64,
   "id": "cf6ead37-5434-4fb4-8b62-8cde10ca1ff9",
   "metadata": {},
   "outputs": [
    {
     "name": "stdout",
     "output_type": "stream",
     "text": [
      "\n",
      "Начало обучения нейронной сети...\n",
      "Epoch 1/100\n"
     ]
    },
    {
     "name": "stderr",
     "output_type": "stream",
     "text": [
      "C:\\Users\\yuril\\anaconda3\\Lib\\site-packages\\keras\\src\\layers\\core\\dense.py:87: UserWarning: Do not pass an `input_shape`/`input_dim` argument to a layer. When using Sequential models, prefer using an `Input(shape)` object as the first layer in the model instead.\n",
      "  super().__init__(activity_regularizer=activity_regularizer, **kwargs)\n"
     ]
    },
    {
     "name": "stdout",
     "output_type": "stream",
     "text": [
      "\u001b[1m1172/1172\u001b[0m \u001b[32m━━━━━━━━━━━━━━━━━━━━\u001b[0m\u001b[37m\u001b[0m \u001b[1m4s\u001b[0m 2ms/step - loss: 43.0593 - mae: 42.9780 - val_loss: 26.4052 - val_mae: 26.3038\n",
      "Epoch 2/100\n",
      "\u001b[1m1172/1172\u001b[0m \u001b[32m━━━━━━━━━━━━━━━━━━━━\u001b[0m\u001b[37m\u001b[0m \u001b[1m2s\u001b[0m 2ms/step - loss: 19.3683 - mae: 19.2576 - val_loss: 9.7244 - val_mae: 9.5985\n",
      "Epoch 3/100\n",
      "\u001b[1m1172/1172\u001b[0m \u001b[32m━━━━━━━━━━━━━━━━━━━━\u001b[0m\u001b[37m\u001b[0m \u001b[1m2s\u001b[0m 2ms/step - loss: 11.6622 - mae: 11.5350 - val_loss: 8.5356 - val_mae: 8.4064\n",
      "Epoch 4/100\n",
      "\u001b[1m1172/1172\u001b[0m \u001b[32m━━━━━━━━━━━━━━━━━━━━\u001b[0m\u001b[37m\u001b[0m \u001b[1m3s\u001b[0m 2ms/step - loss: 10.9056 - mae: 10.7765 - val_loss: 8.2097 - val_mae: 8.0819\n",
      "Epoch 5/100\n",
      "\u001b[1m1172/1172\u001b[0m \u001b[32m━━━━━━━━━━━━━━━━━━━━\u001b[0m\u001b[37m\u001b[0m \u001b[1m3s\u001b[0m 2ms/step - loss: 10.5743 - mae: 10.4473 - val_loss: 8.0689 - val_mae: 7.9444\n",
      "Epoch 6/100\n",
      "\u001b[1m1172/1172\u001b[0m \u001b[32m━━━━━━━━━━━━━━━━━━━━\u001b[0m\u001b[37m\u001b[0m \u001b[1m2s\u001b[0m 2ms/step - loss: 10.3660 - mae: 10.2422 - val_loss: 8.0065 - val_mae: 7.8852\n",
      "Epoch 7/100\n",
      "\u001b[1m1172/1172\u001b[0m \u001b[32m━━━━━━━━━━━━━━━━━━━━\u001b[0m\u001b[37m\u001b[0m \u001b[1m3s\u001b[0m 2ms/step - loss: 10.1694 - mae: 10.0486 - val_loss: 7.9606 - val_mae: 7.8419\n",
      "Epoch 8/100\n",
      "\u001b[1m1172/1172\u001b[0m \u001b[32m━━━━━━━━━━━━━━━━━━━━\u001b[0m\u001b[37m\u001b[0m \u001b[1m3s\u001b[0m 2ms/step - loss: 10.0001 - mae: 9.8820 - val_loss: 7.9145 - val_mae: 7.7987\n",
      "Epoch 9/100\n",
      "\u001b[1m1172/1172\u001b[0m \u001b[32m━━━━━━━━━━━━━━━━━━━━\u001b[0m\u001b[37m\u001b[0m \u001b[1m2s\u001b[0m 2ms/step - loss: 9.9044 - mae: 9.7892 - val_loss: 7.8931 - val_mae: 7.7803\n",
      "Epoch 10/100\n",
      "\u001b[1m1172/1172\u001b[0m \u001b[32m━━━━━━━━━━━━━━━━━━━━\u001b[0m\u001b[37m\u001b[0m \u001b[1m2s\u001b[0m 2ms/step - loss: 9.8360 - mae: 9.7238 - val_loss: 7.8965 - val_mae: 7.7866\n",
      "Epoch 11/100\n",
      "\u001b[1m1172/1172\u001b[0m \u001b[32m━━━━━━━━━━━━━━━━━━━━\u001b[0m\u001b[37m\u001b[0m \u001b[1m2s\u001b[0m 2ms/step - loss: 9.7433 - mae: 9.6339 - val_loss: 7.8613 - val_mae: 7.7540\n",
      "Epoch 12/100\n",
      "\u001b[1m1172/1172\u001b[0m \u001b[32m━━━━━━━━━━━━━━━━━━━━\u001b[0m\u001b[37m\u001b[0m \u001b[1m3s\u001b[0m 2ms/step - loss: 9.6953 - mae: 9.5887 - val_loss: 7.8456 - val_mae: 7.7411\n",
      "Epoch 13/100\n",
      "\u001b[1m1172/1172\u001b[0m \u001b[32m━━━━━━━━━━━━━━━━━━━━\u001b[0m\u001b[37m\u001b[0m \u001b[1m3s\u001b[0m 2ms/step - loss: 9.6283 - mae: 9.5244 - val_loss: 7.8501 - val_mae: 7.7486\n",
      "Epoch 14/100\n",
      "\u001b[1m1172/1172\u001b[0m \u001b[32m━━━━━━━━━━━━━━━━━━━━\u001b[0m\u001b[37m\u001b[0m \u001b[1m2s\u001b[0m 2ms/step - loss: 9.5635 - mae: 9.4624 - val_loss: 7.8123 - val_mae: 7.7129\n",
      "Epoch 15/100\n",
      "\u001b[1m1172/1172\u001b[0m \u001b[32m━━━━━━━━━━━━━━━━━━━━\u001b[0m\u001b[37m\u001b[0m \u001b[1m3s\u001b[0m 2ms/step - loss: 9.5125 - mae: 9.4138 - val_loss: 7.8099 - val_mae: 7.7129\n",
      "Epoch 16/100\n",
      "\u001b[1m1172/1172\u001b[0m \u001b[32m━━━━━━━━━━━━━━━━━━━━\u001b[0m\u001b[37m\u001b[0m \u001b[1m3s\u001b[0m 2ms/step - loss: 9.4639 - mae: 9.3676 - val_loss: 7.8041 - val_mae: 7.7096\n",
      "Epoch 17/100\n",
      "\u001b[1m1172/1172\u001b[0m \u001b[32m━━━━━━━━━━━━━━━━━━━━\u001b[0m\u001b[37m\u001b[0m \u001b[1m3s\u001b[0m 2ms/step - loss: 9.4337 - mae: 9.3397 - val_loss: 7.7838 - val_mae: 7.6912\n",
      "Epoch 18/100\n",
      "\u001b[1m1172/1172\u001b[0m \u001b[32m━━━━━━━━━━━━━━━━━━━━\u001b[0m\u001b[37m\u001b[0m \u001b[1m2s\u001b[0m 2ms/step - loss: 9.3604 - mae: 9.2686 - val_loss: 7.7793 - val_mae: 7.6890\n",
      "Epoch 19/100\n",
      "\u001b[1m1172/1172\u001b[0m \u001b[32m━━━━━━━━━━━━━━━━━━━━\u001b[0m\u001b[37m\u001b[0m \u001b[1m3s\u001b[0m 2ms/step - loss: 9.3341 - mae: 9.2445 - val_loss: 7.7874 - val_mae: 7.6995\n",
      "Epoch 20/100\n",
      "\u001b[1m1172/1172\u001b[0m \u001b[32m━━━━━━━━━━━━━━━━━━━━\u001b[0m\u001b[37m\u001b[0m \u001b[1m3s\u001b[0m 2ms/step - loss: 9.2653 - mae: 9.1779 - val_loss: 7.7589 - val_mae: 7.6729\n",
      "Epoch 21/100\n",
      "\u001b[1m1172/1172\u001b[0m \u001b[32m━━━━━━━━━━━━━━━━━━━━\u001b[0m\u001b[37m\u001b[0m \u001b[1m3s\u001b[0m 2ms/step - loss: 9.2588 - mae: 9.1734 - val_loss: 7.7659 - val_mae: 7.6821\n",
      "Epoch 22/100\n",
      "\u001b[1m1172/1172\u001b[0m \u001b[32m━━━━━━━━━━━━━━━━━━━━\u001b[0m\u001b[37m\u001b[0m \u001b[1m3s\u001b[0m 2ms/step - loss: 9.2122 - mae: 9.1289 - val_loss: 7.7575 - val_mae: 7.6756\n",
      "Epoch 23/100\n",
      "\u001b[1m1172/1172\u001b[0m \u001b[32m━━━━━━━━━━━━━━━━━━━━\u001b[0m\u001b[37m\u001b[0m \u001b[1m3s\u001b[0m 2ms/step - loss: 9.2012 - mae: 9.1199 - val_loss: 7.7560 - val_mae: 7.6761\n",
      "Epoch 24/100\n",
      "\u001b[1m1172/1172\u001b[0m \u001b[32m━━━━━━━━━━━━━━━━━━━━\u001b[0m\u001b[37m\u001b[0m \u001b[1m3s\u001b[0m 2ms/step - loss: 9.1810 - mae: 9.1016 - val_loss: 7.7547 - val_mae: 7.6766\n",
      "Epoch 25/100\n",
      "\u001b[1m1172/1172\u001b[0m \u001b[32m━━━━━━━━━━━━━━━━━━━━\u001b[0m\u001b[37m\u001b[0m \u001b[1m3s\u001b[0m 2ms/step - loss: 9.1255 - mae: 9.0479 - val_loss: 7.7372 - val_mae: 7.6608\n",
      "Epoch 26/100\n",
      "\u001b[1m1172/1172\u001b[0m \u001b[32m━━━━━━━━━━━━━━━━━━━━\u001b[0m\u001b[37m\u001b[0m \u001b[1m3s\u001b[0m 2ms/step - loss: 9.0959 - mae: 9.0201 - val_loss: 7.7419 - val_mae: 7.6675\n",
      "Epoch 27/100\n",
      "\u001b[1m1172/1172\u001b[0m \u001b[32m━━━━━━━━━━━━━━━━━━━━\u001b[0m\u001b[37m\u001b[0m \u001b[1m3s\u001b[0m 2ms/step - loss: 9.0984 - mae: 9.0244 - val_loss: 7.7496 - val_mae: 7.6770\n",
      "Epoch 28/100\n",
      "\u001b[1m1172/1172\u001b[0m \u001b[32m━━━━━━━━━━━━━━━━━━━━\u001b[0m\u001b[37m\u001b[0m \u001b[1m3s\u001b[0m 2ms/step - loss: 9.0544 - mae: 8.9821 - val_loss: 7.7374 - val_mae: 7.6663\n",
      "Epoch 29/100\n",
      "\u001b[1m1172/1172\u001b[0m \u001b[32m━━━━━━━━━━━━━━━━━━━━\u001b[0m\u001b[37m\u001b[0m \u001b[1m3s\u001b[0m 2ms/step - loss: 9.0534 - mae: 8.9827 - val_loss: 7.7339 - val_mae: 7.6643\n",
      "Epoch 30/100\n",
      "\u001b[1m1172/1172\u001b[0m \u001b[32m━━━━━━━━━━━━━━━━━━━━\u001b[0m\u001b[37m\u001b[0m \u001b[1m3s\u001b[0m 2ms/step - loss: 9.0318 - mae: 8.9626 - val_loss: 7.7207 - val_mae: 7.6527\n",
      "Epoch 31/100\n",
      "\u001b[1m1172/1172\u001b[0m \u001b[32m━━━━━━━━━━━━━━━━━━━━\u001b[0m\u001b[37m\u001b[0m \u001b[1m3s\u001b[0m 2ms/step - loss: 9.0132 - mae: 8.9456 - val_loss: 7.7284 - val_mae: 7.6619\n",
      "Epoch 32/100\n",
      "\u001b[1m1172/1172\u001b[0m \u001b[32m━━━━━━━━━━━━━━━━━━━━\u001b[0m\u001b[37m\u001b[0m \u001b[1m3s\u001b[0m 2ms/step - loss: 9.0071 - mae: 8.9409 - val_loss: 7.7155 - val_mae: 7.6505\n",
      "Epoch 33/100\n",
      "\u001b[1m1172/1172\u001b[0m \u001b[32m━━━━━━━━━━━━━━━━━━━━\u001b[0m\u001b[37m\u001b[0m \u001b[1m5s\u001b[0m 2ms/step - loss: 8.9738 - mae: 8.9091 - val_loss: 7.7108 - val_mae: 7.6472\n",
      "Epoch 34/100\n",
      "\u001b[1m1172/1172\u001b[0m \u001b[32m━━━━━━━━━━━━━━━━━━━━\u001b[0m\u001b[37m\u001b[0m \u001b[1m3s\u001b[0m 2ms/step - loss: 8.9754 - mae: 8.9120 - val_loss: 7.7090 - val_mae: 7.6467\n",
      "Epoch 35/100\n",
      "\u001b[1m1172/1172\u001b[0m \u001b[32m━━━━━━━━━━━━━━━━━━━━\u001b[0m\u001b[37m\u001b[0m \u001b[1m2s\u001b[0m 2ms/step - loss: 8.9777 - mae: 8.9157 - val_loss: 7.7088 - val_mae: 7.6477\n",
      "Epoch 36/100\n",
      "\u001b[1m1172/1172\u001b[0m \u001b[32m━━━━━━━━━━━━━━━━━━━━\u001b[0m\u001b[37m\u001b[0m \u001b[1m3s\u001b[0m 2ms/step - loss: 8.9548 - mae: 8.8940 - val_loss: 7.7083 - val_mae: 7.6485\n",
      "Epoch 37/100\n",
      "\u001b[1m1172/1172\u001b[0m \u001b[32m━━━━━━━━━━━━━━━━━━━━\u001b[0m\u001b[37m\u001b[0m \u001b[1m2s\u001b[0m 2ms/step - loss: 8.9418 - mae: 8.8823 - val_loss: 7.6940 - val_mae: 7.6352\n",
      "Epoch 38/100\n",
      "\u001b[1m1172/1172\u001b[0m \u001b[32m━━━━━━━━━━━━━━━━━━━━\u001b[0m\u001b[37m\u001b[0m \u001b[1m3s\u001b[0m 2ms/step - loss: 8.9252 - mae: 8.8668 - val_loss: 7.6942 - val_mae: 7.6366\n",
      "Epoch 39/100\n",
      "\u001b[1m1172/1172\u001b[0m \u001b[32m━━━━━━━━━━━━━━━━━━━━\u001b[0m\u001b[37m\u001b[0m \u001b[1m3s\u001b[0m 2ms/step - loss: 8.9003 - mae: 8.8430 - val_loss: 7.7061 - val_mae: 7.6497\n",
      "Epoch 40/100\n",
      "\u001b[1m1172/1172\u001b[0m \u001b[32m━━━━━━━━━━━━━━━━━━━━\u001b[0m\u001b[37m\u001b[0m \u001b[1m3s\u001b[0m 2ms/step - loss: 8.9036 - mae: 8.8475 - val_loss: 7.6948 - val_mae: 7.6394\n",
      "Epoch 41/100\n",
      "\u001b[1m1172/1172\u001b[0m \u001b[32m━━━━━━━━━━━━━━━━━━━━\u001b[0m\u001b[37m\u001b[0m \u001b[1m2s\u001b[0m 2ms/step - loss: 8.8811 - mae: 8.8260 - val_loss: 7.6966 - val_mae: 7.6423\n",
      "Epoch 42/100\n",
      "\u001b[1m1172/1172\u001b[0m \u001b[32m━━━━━━━━━━━━━━━━━━━━\u001b[0m\u001b[37m\u001b[0m \u001b[1m3s\u001b[0m 2ms/step - loss: 8.8982 - mae: 8.8441 - val_loss: 7.7060 - val_mae: 7.6527\n",
      "Epoch 43/100\n",
      "\u001b[1m1172/1172\u001b[0m \u001b[32m━━━━━━━━━━━━━━━━━━━━\u001b[0m\u001b[37m\u001b[0m \u001b[1m3s\u001b[0m 2ms/step - loss: 8.8986 - mae: 8.8456 - val_loss: 7.6853 - val_mae: 7.6330\n",
      "Epoch 44/100\n",
      "\u001b[1m1172/1172\u001b[0m \u001b[32m━━━━━━━━━━━━━━━━━━━━\u001b[0m\u001b[37m\u001b[0m \u001b[1m3s\u001b[0m 2ms/step - loss: 8.8947 - mae: 8.8426 - val_loss: 7.6844 - val_mae: 7.6330\n",
      "Epoch 45/100\n",
      "\u001b[1m1172/1172\u001b[0m \u001b[32m━━━━━━━━━━━━━━━━━━━━\u001b[0m\u001b[37m\u001b[0m \u001b[1m3s\u001b[0m 2ms/step - loss: 8.8554 - mae: 8.8043 - val_loss: 7.6886 - val_mae: 7.6382\n",
      "Epoch 46/100\n",
      "\u001b[1m1172/1172\u001b[0m \u001b[32m━━━━━━━━━━━━━━━━━━━━\u001b[0m\u001b[37m\u001b[0m \u001b[1m3s\u001b[0m 2ms/step - loss: 8.8664 - mae: 8.8162 - val_loss: 7.7064 - val_mae: 7.6571\n",
      "Epoch 47/100\n",
      "\u001b[1m1172/1172\u001b[0m \u001b[32m━━━━━━━━━━━━━━━━━━━━\u001b[0m\u001b[37m\u001b[0m \u001b[1m3s\u001b[0m 2ms/step - loss: 8.8736 - mae: 8.8244 - val_loss: 7.6821 - val_mae: 7.6335\n",
      "Epoch 48/100\n",
      "\u001b[1m1172/1172\u001b[0m \u001b[32m━━━━━━━━━━━━━━━━━━━━\u001b[0m\u001b[37m\u001b[0m \u001b[1m3s\u001b[0m 2ms/step - loss: 8.8365 - mae: 8.7882 - val_loss: 7.6841 - val_mae: 7.6364\n",
      "Epoch 49/100\n",
      "\u001b[1m1172/1172\u001b[0m \u001b[32m━━━━━━━━━━━━━━━━━━━━\u001b[0m\u001b[37m\u001b[0m \u001b[1m3s\u001b[0m 2ms/step - loss: 8.8378 - mae: 8.7904 - val_loss: 7.6862 - val_mae: 7.6395\n",
      "Epoch 50/100\n",
      "\u001b[1m1172/1172\u001b[0m \u001b[32m━━━━━━━━━━━━━━━━━━━━\u001b[0m\u001b[37m\u001b[0m \u001b[1m3s\u001b[0m 2ms/step - loss: 8.8530 - mae: 8.8065 - val_loss: 7.6823 - val_mae: 7.6364\n",
      "Epoch 51/100\n",
      "\u001b[1m1172/1172\u001b[0m \u001b[32m━━━━━━━━━━━━━━━━━━━━\u001b[0m\u001b[37m\u001b[0m \u001b[1m3s\u001b[0m 2ms/step - loss: 8.8246 - mae: 8.7789 - val_loss: 7.6863 - val_mae: 7.6413\n",
      "Epoch 52/100\n",
      "\u001b[1m1172/1172\u001b[0m \u001b[32m━━━━━━━━━━━━━━━━━━━━\u001b[0m\u001b[37m\u001b[0m \u001b[1m3s\u001b[0m 2ms/step - loss: 8.8433 - mae: 8.7985 - val_loss: 7.6939 - val_mae: 7.6498\n",
      "Epoch 53/100\n",
      "\u001b[1m1172/1172\u001b[0m \u001b[32m━━━━━━━━━━━━━━━━━━━━\u001b[0m\u001b[37m\u001b[0m \u001b[1m3s\u001b[0m 2ms/step - loss: 8.8378 - mae: 8.7938 - val_loss: 7.6836 - val_mae: 7.6402\n",
      "Epoch 54/100\n",
      "\u001b[1m1172/1172\u001b[0m \u001b[32m━━━━━━━━━━━━━━━━━━━━\u001b[0m\u001b[37m\u001b[0m \u001b[1m3s\u001b[0m 2ms/step - loss: 8.8086 - mae: 8.7654 - val_loss: 7.7015 - val_mae: 7.6591\n",
      "Epoch 55/100\n",
      "\u001b[1m1172/1172\u001b[0m \u001b[32m━━━━━━━━━━━━━━━━━━━━\u001b[0m\u001b[37m\u001b[0m \u001b[1m3s\u001b[0m 2ms/step - loss: 8.8204 - mae: 8.7781 - val_loss: 7.6729 - val_mae: 7.6311\n",
      "Epoch 56/100\n",
      "\u001b[1m1172/1172\u001b[0m \u001b[32m━━━━━━━━━━━━━━━━━━━━\u001b[0m\u001b[37m\u001b[0m \u001b[1m3s\u001b[0m 2ms/step - loss: 8.7812 - mae: 8.7396 - val_loss: 7.6772 - val_mae: 7.6363\n",
      "Epoch 57/100\n",
      "\u001b[1m1172/1172\u001b[0m \u001b[32m━━━━━━━━━━━━━━━━━━━━\u001b[0m\u001b[37m\u001b[0m \u001b[1m3s\u001b[0m 2ms/step - loss: 8.7945 - mae: 8.7537 - val_loss: 7.6870 - val_mae: 7.6468\n",
      "Epoch 58/100\n",
      "\u001b[1m1172/1172\u001b[0m \u001b[32m━━━━━━━━━━━━━━━━━━━━\u001b[0m\u001b[37m\u001b[0m \u001b[1m3s\u001b[0m 2ms/step - loss: 8.8070 - mae: 8.7669 - val_loss: 7.6761 - val_mae: 7.6367\n",
      "Epoch 59/100\n",
      "\u001b[1m1172/1172\u001b[0m \u001b[32m━━━━━━━━━━━━━━━━━━━━\u001b[0m\u001b[37m\u001b[0m \u001b[1m3s\u001b[0m 2ms/step - loss: 8.7981 - mae: 8.7588 - val_loss: 7.6718 - val_mae: 7.6331\n",
      "Epoch 60/100\n",
      "\u001b[1m1172/1172\u001b[0m \u001b[32m━━━━━━━━━━━━━━━━━━━━\u001b[0m\u001b[37m\u001b[0m \u001b[1m3s\u001b[0m 2ms/step - loss: 8.7779 - mae: 8.7393 - val_loss: 7.6782 - val_mae: 7.6401\n",
      "Epoch 61/100\n",
      "\u001b[1m1172/1172\u001b[0m \u001b[32m━━━━━━━━━━━━━━━━━━━━\u001b[0m\u001b[37m\u001b[0m \u001b[1m3s\u001b[0m 2ms/step - loss: 8.7784 - mae: 8.7406 - val_loss: 7.6753 - val_mae: 7.6381\n",
      "Epoch 62/100\n",
      "\u001b[1m1172/1172\u001b[0m \u001b[32m━━━━━━━━━━━━━━━━━━━━\u001b[0m\u001b[37m\u001b[0m \u001b[1m3s\u001b[0m 2ms/step - loss: 8.7559 - mae: 8.7187 - val_loss: 7.6658 - val_mae: 7.6291\n",
      "Epoch 63/100\n",
      "\u001b[1m1172/1172\u001b[0m \u001b[32m━━━━━━━━━━━━━━━━━━━━\u001b[0m\u001b[37m\u001b[0m \u001b[1m3s\u001b[0m 2ms/step - loss: 8.7478 - mae: 8.7114 - val_loss: 7.6852 - val_mae: 7.6493\n",
      "Epoch 64/100\n",
      "\u001b[1m1172/1172\u001b[0m \u001b[32m━━━━━━━━━━━━━━━━━━━━\u001b[0m\u001b[37m\u001b[0m \u001b[1m3s\u001b[0m 2ms/step - loss: 8.7667 - mae: 8.7309 - val_loss: 7.6723 - val_mae: 7.6370\n",
      "Epoch 65/100\n",
      "\u001b[1m1172/1172\u001b[0m \u001b[32m━━━━━━━━━━━━━━━━━━━━\u001b[0m\u001b[37m\u001b[0m \u001b[1m3s\u001b[0m 2ms/step - loss: 8.7484 - mae: 8.7132 - val_loss: 7.6850 - val_mae: 7.6504\n",
      "Epoch 66/100\n",
      "\u001b[1m1172/1172\u001b[0m \u001b[32m━━━━━━━━━━━━━━━━━━━━\u001b[0m\u001b[37m\u001b[0m \u001b[1m2s\u001b[0m 2ms/step - loss: 8.7560 - mae: 8.7215 - val_loss: 7.6886 - val_mae: 7.6547\n",
      "Epoch 67/100\n",
      "\u001b[1m1172/1172\u001b[0m \u001b[32m━━━━━━━━━━━━━━━━━━━━\u001b[0m\u001b[37m\u001b[0m \u001b[1m3s\u001b[0m 2ms/step - loss: 8.7659 - mae: 8.7320 - val_loss: 7.6667 - val_mae: 7.6332\n",
      "Epoch 68/100\n",
      "\u001b[1m1172/1172\u001b[0m \u001b[32m━━━━━━━━━━━━━━━━━━━━\u001b[0m\u001b[37m\u001b[0m \u001b[1m3s\u001b[0m 2ms/step - loss: 8.7431 - mae: 8.7098 - val_loss: 7.6889 - val_mae: 7.6561\n",
      "Epoch 69/100\n",
      "\u001b[1m1172/1172\u001b[0m \u001b[32m━━━━━━━━━━━━━━━━━━━━\u001b[0m\u001b[37m\u001b[0m \u001b[1m3s\u001b[0m 2ms/step - loss: 8.7604 - mae: 8.7277 - val_loss: 7.6647 - val_mae: 7.6324\n",
      "Epoch 70/100\n",
      "\u001b[1m1172/1172\u001b[0m \u001b[32m━━━━━━━━━━━━━━━━━━━━\u001b[0m\u001b[37m\u001b[0m \u001b[1m5s\u001b[0m 2ms/step - loss: 8.7386 - mae: 8.7065 - val_loss: 7.6609 - val_mae: 7.6292\n",
      "Epoch 71/100\n",
      "\u001b[1m1172/1172\u001b[0m \u001b[32m━━━━━━━━━━━━━━━━━━━━\u001b[0m\u001b[37m\u001b[0m \u001b[1m3s\u001b[0m 2ms/step - loss: 8.7236 - mae: 8.6921 - val_loss: 7.6778 - val_mae: 7.6467\n",
      "Epoch 72/100\n",
      "\u001b[1m1172/1172\u001b[0m \u001b[32m━━━━━━━━━━━━━━━━━━━━\u001b[0m\u001b[37m\u001b[0m \u001b[1m3s\u001b[0m 2ms/step - loss: 8.7373 - mae: 8.7063 - val_loss: 7.6628 - val_mae: 7.6322\n",
      "Epoch 73/100\n",
      "\u001b[1m1172/1172\u001b[0m \u001b[32m━━━━━━━━━━━━━━━━━━━━\u001b[0m\u001b[37m\u001b[0m \u001b[1m3s\u001b[0m 2ms/step - loss: 8.7352 - mae: 8.7047 - val_loss: 7.6567 - val_mae: 7.6266\n",
      "Epoch 74/100\n",
      "\u001b[1m1172/1172\u001b[0m \u001b[32m━━━━━━━━━━━━━━━━━━━━\u001b[0m\u001b[37m\u001b[0m \u001b[1m3s\u001b[0m 2ms/step - loss: 8.7355 - mae: 8.7056 - val_loss: 7.6651 - val_mae: 7.6355\n",
      "Epoch 75/100\n",
      "\u001b[1m1172/1172\u001b[0m \u001b[32m━━━━━━━━━━━━━━━━━━━━\u001b[0m\u001b[37m\u001b[0m \u001b[1m3s\u001b[0m 2ms/step - loss: 8.7419 - mae: 8.7124 - val_loss: 7.6553 - val_mae: 7.6261\n",
      "Epoch 76/100\n",
      "\u001b[1m1172/1172\u001b[0m \u001b[32m━━━━━━━━━━━━━━━━━━━━\u001b[0m\u001b[37m\u001b[0m \u001b[1m3s\u001b[0m 2ms/step - loss: 8.7076 - mae: 8.6787 - val_loss: 7.6703 - val_mae: 7.6417\n",
      "Epoch 77/100\n",
      "\u001b[1m1172/1172\u001b[0m \u001b[32m━━━━━━━━━━━━━━━━━━━━\u001b[0m\u001b[37m\u001b[0m \u001b[1m2s\u001b[0m 2ms/step - loss: 8.7267 - mae: 8.6982 - val_loss: 7.6520 - val_mae: 7.6238\n",
      "Epoch 78/100\n",
      "\u001b[1m1172/1172\u001b[0m \u001b[32m━━━━━━━━━━━━━━━━━━━━\u001b[0m\u001b[37m\u001b[0m \u001b[1m3s\u001b[0m 2ms/step - loss: 8.7233 - mae: 8.6953 - val_loss: 7.6588 - val_mae: 7.6311\n",
      "Epoch 79/100\n",
      "\u001b[1m1172/1172\u001b[0m \u001b[32m━━━━━━━━━━━━━━━━━━━━\u001b[0m\u001b[37m\u001b[0m \u001b[1m3s\u001b[0m 2ms/step - loss: 8.7102 - mae: 8.6827 - val_loss: 7.6493 - val_mae: 7.6220\n",
      "Epoch 80/100\n",
      "\u001b[1m1172/1172\u001b[0m \u001b[32m━━━━━━━━━━━━━━━━━━━━\u001b[0m\u001b[37m\u001b[0m \u001b[1m3s\u001b[0m 2ms/step - loss: 8.7073 - mae: 8.6801 - val_loss: 7.6543 - val_mae: 7.6275\n",
      "Epoch 81/100\n",
      "\u001b[1m1172/1172\u001b[0m \u001b[32m━━━━━━━━━━━━━━━━━━━━\u001b[0m\u001b[37m\u001b[0m \u001b[1m3s\u001b[0m 2ms/step - loss: 8.6874 - mae: 8.6607 - val_loss: 7.6594 - val_mae: 7.6330\n",
      "Epoch 82/100\n",
      "\u001b[1m1172/1172\u001b[0m \u001b[32m━━━━━━━━━━━━━━━━━━━━\u001b[0m\u001b[37m\u001b[0m \u001b[1m3s\u001b[0m 2ms/step - loss: 8.7030 - mae: 8.6766 - val_loss: 7.6615 - val_mae: 7.6356\n",
      "Epoch 83/100\n",
      "\u001b[1m1172/1172\u001b[0m \u001b[32m━━━━━━━━━━━━━━━━━━━━\u001b[0m\u001b[37m\u001b[0m \u001b[1m3s\u001b[0m 2ms/step - loss: 8.6956 - mae: 8.6697 - val_loss: 7.6472 - val_mae: 7.6215\n",
      "Epoch 84/100\n",
      "\u001b[1m1172/1172\u001b[0m \u001b[32m━━━━━━━━━━━━━━━━━━━━\u001b[0m\u001b[37m\u001b[0m \u001b[1m3s\u001b[0m 2ms/step - loss: 8.7170 - mae: 8.6915 - val_loss: 7.6518 - val_mae: 7.6266\n",
      "Epoch 85/100\n",
      "\u001b[1m1172/1172\u001b[0m \u001b[32m━━━━━━━━━━━━━━━━━━━━\u001b[0m\u001b[37m\u001b[0m \u001b[1m3s\u001b[0m 2ms/step - loss: 8.6865 - mae: 8.6614 - val_loss: 7.6690 - val_mae: 7.6441\n",
      "Epoch 86/100\n",
      "\u001b[1m1172/1172\u001b[0m \u001b[32m━━━━━━━━━━━━━━━━━━━━\u001b[0m\u001b[37m\u001b[0m \u001b[1m3s\u001b[0m 2ms/step - loss: 8.6729 - mae: 8.6481 - val_loss: 7.6758 - val_mae: 7.6514\n",
      "Epoch 87/100\n",
      "\u001b[1m1172/1172\u001b[0m \u001b[32m━━━━━━━━━━━━━━━━━━━━\u001b[0m\u001b[37m\u001b[0m \u001b[1m3s\u001b[0m 2ms/step - loss: 8.6833 - mae: 8.6589 - val_loss: 7.6559 - val_mae: 7.6318\n",
      "Epoch 88/100\n",
      "\u001b[1m1172/1172\u001b[0m \u001b[32m━━━━━━━━━━━━━━━━━━━━\u001b[0m\u001b[37m\u001b[0m \u001b[1m3s\u001b[0m 2ms/step - loss: 8.6868 - mae: 8.6628 - val_loss: 7.6491 - val_mae: 7.6252\n",
      "Epoch 89/100\n",
      "\u001b[1m1172/1172\u001b[0m \u001b[32m━━━━━━━━━━━━━━━━━━━━\u001b[0m\u001b[37m\u001b[0m \u001b[1m3s\u001b[0m 2ms/step - loss: 8.7080 - mae: 8.6843 - val_loss: 7.6621 - val_mae: 7.6387\n",
      "Epoch 90/100\n",
      "\u001b[1m1172/1172\u001b[0m \u001b[32m━━━━━━━━━━━━━━━━━━━━\u001b[0m\u001b[37m\u001b[0m \u001b[1m3s\u001b[0m 2ms/step - loss: 8.6959 - mae: 8.6726 - val_loss: 7.6611 - val_mae: 7.6380\n",
      "Epoch 91/100\n",
      "\u001b[1m1172/1172\u001b[0m \u001b[32m━━━━━━━━━━━━━━━━━━━━\u001b[0m\u001b[37m\u001b[0m \u001b[1m3s\u001b[0m 2ms/step - loss: 8.6627 - mae: 8.6397 - val_loss: 7.6548 - val_mae: 7.6321\n",
      "Epoch 92/100\n",
      "\u001b[1m1172/1172\u001b[0m \u001b[32m━━━━━━━━━━━━━━━━━━━━\u001b[0m\u001b[37m\u001b[0m \u001b[1m3s\u001b[0m 2ms/step - loss: 8.6498 - mae: 8.6271 - val_loss: 7.6539 - val_mae: 7.6315\n",
      "Epoch 93/100\n",
      "\u001b[1m1172/1172\u001b[0m \u001b[32m━━━━━━━━━━━━━━━━━━━━\u001b[0m\u001b[37m\u001b[0m \u001b[1m3s\u001b[0m 2ms/step - loss: 8.6635 - mae: 8.6412 - val_loss: 7.6576 - val_mae: 7.6355\n",
      "Epoch 94/100\n",
      "\u001b[1m1172/1172\u001b[0m \u001b[32m━━━━━━━━━━━━━━━━━━━━\u001b[0m\u001b[37m\u001b[0m \u001b[1m3s\u001b[0m 2ms/step - loss: 8.6849 - mae: 8.6629 - val_loss: 7.6445 - val_mae: 7.6226\n",
      "Epoch 95/100\n",
      "\u001b[1m1172/1172\u001b[0m \u001b[32m━━━━━━━━━━━━━━━━━━━━\u001b[0m\u001b[37m\u001b[0m \u001b[1m3s\u001b[0m 2ms/step - loss: 8.6739 - mae: 8.6521 - val_loss: 7.6451 - val_mae: 7.6234\n",
      "Epoch 96/100\n",
      "\u001b[1m1172/1172\u001b[0m \u001b[32m━━━━━━━━━━━━━━━━━━━━\u001b[0m\u001b[37m\u001b[0m \u001b[1m3s\u001b[0m 2ms/step - loss: 8.6423 - mae: 8.6209 - val_loss: 7.6524 - val_mae: 7.6312\n",
      "Epoch 97/100\n",
      "\u001b[1m1172/1172\u001b[0m \u001b[32m━━━━━━━━━━━━━━━━━━━━\u001b[0m\u001b[37m\u001b[0m \u001b[1m3s\u001b[0m 2ms/step - loss: 8.6480 - mae: 8.6269 - val_loss: 7.6456 - val_mae: 7.6246\n",
      "Epoch 98/100\n",
      "\u001b[1m1172/1172\u001b[0m \u001b[32m━━━━━━━━━━━━━━━━━━━━\u001b[0m\u001b[37m\u001b[0m \u001b[1m3s\u001b[0m 2ms/step - loss: 8.6456 - mae: 8.6247 - val_loss: 7.6632 - val_mae: 7.6426\n",
      "Epoch 99/100\n",
      "\u001b[1m1172/1172\u001b[0m \u001b[32m━━━━━━━━━━━━━━━━━━━━\u001b[0m\u001b[37m\u001b[0m \u001b[1m3s\u001b[0m 2ms/step - loss: 8.6607 - mae: 8.6401 - val_loss: 7.6548 - val_mae: 7.6344\n",
      "Epoch 100/100\n",
      "\u001b[1m1172/1172\u001b[0m \u001b[32m━━━━━━━━━━━━━━━━━━━━\u001b[0m\u001b[37m\u001b[0m \u001b[1m3s\u001b[0m 2ms/step - loss: 8.6233 - mae: 8.6030 - val_loss: 7.6413 - val_mae: 7.6211\n",
      "Restoring model weights from the end of the best epoch: 100.\n",
      "Обучение нейронной сети завершено.\n",
      "\u001b[1m4688/4688\u001b[0m \u001b[32m━━━━━━━━━━━━━━━━━━━━\u001b[0m\u001b[37m\u001b[0m \u001b[1m5s\u001b[0m 986us/step\n",
      "\n",
      "Оценка качества модели (RMSE): 10.14 минут\n",
      "\u001b[1m7813/7813\u001b[0m \u001b[32m━━━━━━━━━━━━━━━━━━━━\u001b[0m\u001b[37m\u001b[0m \u001b[1m7s\u001b[0m 940us/step\n",
      "Submission saved!\n"
     ]
    }
   ],
   "source": [
    "from tensorflow.keras.layers import Dense, Dropout, BatchNormalization\n",
    "from tensorflow.keras.optimizers import Adam\n",
    "from tensorflow.keras.callbacks import EarlyStopping, LearningRateScheduler\n",
    "from tensorflow.keras.regularizers import l2\n",
    "\n",
    "# Подготовка данных\n",
    "numeric_features = [\n",
    "    'Episode_Length_minutes', 'Host_Popularity_percentage', 'Number_of_Ads',\n",
    "    'Guest', 'Average_Episode_Length', 'Episode_Length_Deviation',\n",
    "    'Normalized_Host_Popularity', 'Episode_Length_x_Number_of_Ads'\n",
    "]\n",
    "categorical_features = ['Genre', 'Publication_Day', 'Episode_Sentiment']\n",
    "\n",
    "# Числовые признаки\n",
    "X_train_numeric = train_df[numeric_features]\n",
    "X_test_numeric = test_df[numeric_features]\n",
    "\n",
    "# Категориальные признаки\n",
    "encoder = OneHotEncoder(handle_unknown='ignore')\n",
    "X_train_categorical = encoder.fit_transform(train_df[categorical_features])\n",
    "X_test_categorical = encoder.transform(test_df[categorical_features])\n",
    "\n",
    "# Объединение признаков\n",
    "X_train = np.hstack([X_train_numeric, X_train_categorical.toarray()])\n",
    "X_test = np.hstack([X_test_numeric, X_test_categorical.toarray()])\n",
    "\n",
    "# Целевая переменная\n",
    "y_train = train_df['Listening_Time_minutes']\n",
    "\n",
    "# Нормализация\n",
    "scaler = StandardScaler()\n",
    "X_train = scaler.fit_transform(X_train)\n",
    "X_test = scaler.transform(X_test)\n",
    "\n",
    "# Разделение данных\n",
    "X_train_split, X_val_split, y_train_split, y_val_split = train_test_split(\n",
    "    X_train, y_train, test_size=0.2, random_state=42\n",
    ")\n",
    "\n",
    "# Создание модели\n",
    "model = Sequential([\n",
    "    Dense(64, activation='relu', input_shape=(X_train_split.shape[1],), kernel_regularizer=l2(0.001)),\n",
    "    BatchNormalization(),\n",
    "    Dropout(0.2),\n",
    "    Dense(32, activation='relu', kernel_regularizer=l2(0.001)),\n",
    "    Dropout(0.2),\n",
    "    Dense(1)\n",
    "])\n",
    "\n",
    "# Компиляция модели\n",
    "model.compile(optimizer=Adam(learning_rate=0.0001), loss='mae', metrics=['mae'])\n",
    "\n",
    "# Ранняя остановка\n",
    "early_stopping = EarlyStopping(\n",
    "    monitor='val_loss',\n",
    "    patience=15,\n",
    "    restore_best_weights=True,\n",
    "    verbose=1\n",
    ")\n",
    "\n",
    "# Обучение модели\n",
    "print(\"\\nНачало обучения нейронной сети...\")\n",
    "history = model.fit(\n",
    "    X_train_split, y_train_split,\n",
    "    validation_data=(X_val_split, y_val_split),\n",
    "    epochs=100,\n",
    "    batch_size=512,\n",
    "    callbacks=[early_stopping],\n",
    "    verbose=1\n",
    ")\n",
    "print(\"Обучение нейронной сети завершено.\")\n",
    "\n",
    "# Оценка качества\n",
    "y_val_pred = model.predict(X_val_split).flatten()\n",
    "rmse = np.sqrt(mean_squared_error(y_val_split, y_val_pred))\n",
    "print(f\"\\nОценка качества модели (RMSE): {rmse:.2f} минут\")\n",
    "\n",
    "# Предсказание\n",
    "nn_test_predictions = model.predict(X_test).flatten()\n",
    "test_df['Listening_Time_minutes'] = nn_test_predictions\n",
    "\n",
    "# Берем среднее с сети и регрессии\n",
    "ensemble_test_pred = (reg_test_predictions + nn_test_predictions) / 2\n",
    "\n",
    "\n",
    "\n",
    "# Create submission\n",
    "submission = pd.DataFrame({\n",
    "    'id': test_ids,\n",
    "    'Listening_Time_minutes': ensemble_test_pred\n",
    "})\n",
    "submission.to_csv('d:\\\\ml\\\\playground\\\\submission_keras.csv', index=False)\n",
    "print(\"Submission saved!\")"
   ]
  },
  {
   "cell_type": "code",
   "execution_count": null,
   "id": "6dd8eca5-5c2d-4fbc-9bca-8cfe24331d84",
   "metadata": {},
   "outputs": [],
   "source": []
  }
 ],
 "metadata": {
  "kernelspec": {
   "display_name": "Python 3 (ipykernel)",
   "language": "python",
   "name": "python3"
  },
  "language_info": {
   "codemirror_mode": {
    "name": "ipython",
    "version": 3
   },
   "file_extension": ".py",
   "mimetype": "text/x-python",
   "name": "python",
   "nbconvert_exporter": "python",
   "pygments_lexer": "ipython3",
   "version": "3.11.8"
  }
 },
 "nbformat": 4,
 "nbformat_minor": 5
}
